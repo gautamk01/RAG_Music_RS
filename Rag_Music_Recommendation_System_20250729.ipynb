{
 "cells": [
  {
   "cell_type": "code",
   "execution_count": 1,
   "metadata": {
    "_cell_guid": "b1076dfc-b9ad-4769-8c92-a6c4dae69d19",
    "_uuid": "8f2839f25d086af736a60e9eeb907d3b93b6e0e5",
    "execution": {
     "iopub.execute_input": "2025-07-29T08:21:45.542802Z",
     "iopub.status.busy": "2025-07-29T08:21:45.542058Z",
     "iopub.status.idle": "2025-07-29T08:23:07.606111Z",
     "shell.execute_reply": "2025-07-29T08:23:07.605185Z",
     "shell.execute_reply.started": "2025-07-29T08:21:45.542777Z"
    }
   },
   "outputs": [
    {
     "name": "stdout",
     "output_type": "stream",
     "text": [
      "Requirement already satisfied: accelerate in /usr/local/lib/python3.11/dist-packages (1.8.1)\n",
      "Requirement already satisfied: numpy<3.0.0,>=1.17 in /usr/local/lib/python3.11/dist-packages (from accelerate) (1.26.4)\n",
      "Requirement already satisfied: packaging>=20.0 in /usr/local/lib/python3.11/dist-packages (from accelerate) (25.0)\n",
      "Requirement already satisfied: psutil in /usr/local/lib/python3.11/dist-packages (from accelerate) (7.0.0)\n",
      "Requirement already satisfied: pyyaml in /usr/local/lib/python3.11/dist-packages (from accelerate) (6.0.2)\n",
      "Requirement already satisfied: torch>=2.0.0 in /usr/local/lib/python3.11/dist-packages (from accelerate) (2.6.0+cu124)\n",
      "Requirement already satisfied: huggingface_hub>=0.21.0 in /usr/local/lib/python3.11/dist-packages (from accelerate) (0.33.1)\n",
      "Requirement already satisfied: safetensors>=0.4.3 in /usr/local/lib/python3.11/dist-packages (from accelerate) (0.5.3)\n",
      "Requirement already satisfied: filelock in /usr/local/lib/python3.11/dist-packages (from huggingface_hub>=0.21.0->accelerate) (3.18.0)\n",
      "Requirement already satisfied: fsspec>=2023.5.0 in /usr/local/lib/python3.11/dist-packages (from huggingface_hub>=0.21.0->accelerate) (2025.5.1)\n",
      "Requirement already satisfied: requests in /usr/local/lib/python3.11/dist-packages (from huggingface_hub>=0.21.0->accelerate) (2.32.4)\n",
      "Requirement already satisfied: tqdm>=4.42.1 in /usr/local/lib/python3.11/dist-packages (from huggingface_hub>=0.21.0->accelerate) (4.67.1)\n",
      "Requirement already satisfied: typing-extensions>=3.7.4.3 in /usr/local/lib/python3.11/dist-packages (from huggingface_hub>=0.21.0->accelerate) (4.14.0)\n",
      "Requirement already satisfied: hf-xet<2.0.0,>=1.1.2 in /usr/local/lib/python3.11/dist-packages (from huggingface_hub>=0.21.0->accelerate) (1.1.5)\n",
      "Requirement already satisfied: mkl_fft in /usr/local/lib/python3.11/dist-packages (from numpy<3.0.0,>=1.17->accelerate) (1.3.8)\n",
      "Requirement already satisfied: mkl_random in /usr/local/lib/python3.11/dist-packages (from numpy<3.0.0,>=1.17->accelerate) (1.2.4)\n",
      "Requirement already satisfied: mkl_umath in /usr/local/lib/python3.11/dist-packages (from numpy<3.0.0,>=1.17->accelerate) (0.1.1)\n",
      "Requirement already satisfied: mkl in /usr/local/lib/python3.11/dist-packages (from numpy<3.0.0,>=1.17->accelerate) (2025.2.0)\n",
      "Requirement already satisfied: tbb4py in /usr/local/lib/python3.11/dist-packages (from numpy<3.0.0,>=1.17->accelerate) (2022.2.0)\n",
      "Requirement already satisfied: mkl-service in /usr/local/lib/python3.11/dist-packages (from numpy<3.0.0,>=1.17->accelerate) (2.4.1)\n",
      "Requirement already satisfied: networkx in /usr/local/lib/python3.11/dist-packages (from torch>=2.0.0->accelerate) (3.5)\n",
      "Requirement already satisfied: jinja2 in /usr/local/lib/python3.11/dist-packages (from torch>=2.0.0->accelerate) (3.1.6)\n",
      "Collecting nvidia-cuda-nvrtc-cu12==12.4.127 (from torch>=2.0.0->accelerate)\n",
      "  Downloading nvidia_cuda_nvrtc_cu12-12.4.127-py3-none-manylinux2014_x86_64.whl.metadata (1.5 kB)\n",
      "Collecting nvidia-cuda-runtime-cu12==12.4.127 (from torch>=2.0.0->accelerate)\n",
      "  Downloading nvidia_cuda_runtime_cu12-12.4.127-py3-none-manylinux2014_x86_64.whl.metadata (1.5 kB)\n",
      "Collecting nvidia-cuda-cupti-cu12==12.4.127 (from torch>=2.0.0->accelerate)\n",
      "  Downloading nvidia_cuda_cupti_cu12-12.4.127-py3-none-manylinux2014_x86_64.whl.metadata (1.6 kB)\n",
      "Collecting nvidia-cudnn-cu12==9.1.0.70 (from torch>=2.0.0->accelerate)\n",
      "  Downloading nvidia_cudnn_cu12-9.1.0.70-py3-none-manylinux2014_x86_64.whl.metadata (1.6 kB)\n",
      "Collecting nvidia-cublas-cu12==12.4.5.8 (from torch>=2.0.0->accelerate)\n",
      "  Downloading nvidia_cublas_cu12-12.4.5.8-py3-none-manylinux2014_x86_64.whl.metadata (1.5 kB)\n",
      "Collecting nvidia-cufft-cu12==11.2.1.3 (from torch>=2.0.0->accelerate)\n",
      "  Downloading nvidia_cufft_cu12-11.2.1.3-py3-none-manylinux2014_x86_64.whl.metadata (1.5 kB)\n",
      "Collecting nvidia-curand-cu12==10.3.5.147 (from torch>=2.0.0->accelerate)\n",
      "  Downloading nvidia_curand_cu12-10.3.5.147-py3-none-manylinux2014_x86_64.whl.metadata (1.5 kB)\n",
      "Collecting nvidia-cusolver-cu12==11.6.1.9 (from torch>=2.0.0->accelerate)\n",
      "  Downloading nvidia_cusolver_cu12-11.6.1.9-py3-none-manylinux2014_x86_64.whl.metadata (1.6 kB)\n",
      "Collecting nvidia-cusparse-cu12==12.3.1.170 (from torch>=2.0.0->accelerate)\n",
      "  Downloading nvidia_cusparse_cu12-12.3.1.170-py3-none-manylinux2014_x86_64.whl.metadata (1.6 kB)\n",
      "Requirement already satisfied: nvidia-cusparselt-cu12==0.6.2 in /usr/local/lib/python3.11/dist-packages (from torch>=2.0.0->accelerate) (0.6.2)\n",
      "Requirement already satisfied: nvidia-nccl-cu12==2.21.5 in /usr/local/lib/python3.11/dist-packages (from torch>=2.0.0->accelerate) (2.21.5)\n",
      "Requirement already satisfied: nvidia-nvtx-cu12==12.4.127 in /usr/local/lib/python3.11/dist-packages (from torch>=2.0.0->accelerate) (12.4.127)\n",
      "Collecting nvidia-nvjitlink-cu12==12.4.127 (from torch>=2.0.0->accelerate)\n",
      "  Downloading nvidia_nvjitlink_cu12-12.4.127-py3-none-manylinux2014_x86_64.whl.metadata (1.5 kB)\n",
      "Requirement already satisfied: triton==3.2.0 in /usr/local/lib/python3.11/dist-packages (from torch>=2.0.0->accelerate) (3.2.0)\n",
      "Requirement already satisfied: sympy==1.13.1 in /usr/local/lib/python3.11/dist-packages (from torch>=2.0.0->accelerate) (1.13.1)\n",
      "Requirement already satisfied: mpmath<1.4,>=1.1.0 in /usr/local/lib/python3.11/dist-packages (from sympy==1.13.1->torch>=2.0.0->accelerate) (1.3.0)\n",
      "Requirement already satisfied: MarkupSafe>=2.0 in /usr/local/lib/python3.11/dist-packages (from jinja2->torch>=2.0.0->accelerate) (3.0.2)\n",
      "Requirement already satisfied: intel-openmp<2026,>=2024 in /usr/local/lib/python3.11/dist-packages (from mkl->numpy<3.0.0,>=1.17->accelerate) (2024.2.0)\n",
      "Requirement already satisfied: tbb==2022.* in /usr/local/lib/python3.11/dist-packages (from mkl->numpy<3.0.0,>=1.17->accelerate) (2022.2.0)\n",
      "Requirement already satisfied: tcmlib==1.* in /usr/local/lib/python3.11/dist-packages (from tbb==2022.*->mkl->numpy<3.0.0,>=1.17->accelerate) (1.4.0)\n",
      "Requirement already satisfied: intel-cmplr-lib-rt in /usr/local/lib/python3.11/dist-packages (from mkl_umath->numpy<3.0.0,>=1.17->accelerate) (2024.2.0)\n",
      "Requirement already satisfied: charset_normalizer<4,>=2 in /usr/local/lib/python3.11/dist-packages (from requests->huggingface_hub>=0.21.0->accelerate) (3.4.2)\n",
      "Requirement already satisfied: idna<4,>=2.5 in /usr/local/lib/python3.11/dist-packages (from requests->huggingface_hub>=0.21.0->accelerate) (3.10)\n",
      "Requirement already satisfied: urllib3<3,>=1.21.1 in /usr/local/lib/python3.11/dist-packages (from requests->huggingface_hub>=0.21.0->accelerate) (2.5.0)\n",
      "Requirement already satisfied: certifi>=2017.4.17 in /usr/local/lib/python3.11/dist-packages (from requests->huggingface_hub>=0.21.0->accelerate) (2025.6.15)\n",
      "Requirement already satisfied: intel-cmplr-lib-ur==2024.2.0 in /usr/local/lib/python3.11/dist-packages (from intel-openmp<2026,>=2024->mkl->numpy<3.0.0,>=1.17->accelerate) (2024.2.0)\n",
      "Downloading nvidia_cublas_cu12-12.4.5.8-py3-none-manylinux2014_x86_64.whl (363.4 MB)\n",
      "\u001b[2K   \u001b[90m━━━━━━━━━━━━━━━━━━━━━━━━━━━━━━━━━━━━━━━━\u001b[0m \u001b[32m363.4/363.4 MB\u001b[0m \u001b[31m4.7 MB/s\u001b[0m eta \u001b[36m0:00:00\u001b[0m:00:01\u001b[0m00:01\u001b[0m\n",
      "\u001b[?25hDownloading nvidia_cuda_cupti_cu12-12.4.127-py3-none-manylinux2014_x86_64.whl (13.8 MB)\n",
      "\u001b[2K   \u001b[90m━━━━━━━━━━━━━━━━━━━━━━━━━━━━━━━━━━━━━━━━\u001b[0m \u001b[32m13.8/13.8 MB\u001b[0m \u001b[31m93.4 MB/s\u001b[0m eta \u001b[36m0:00:00\u001b[0m:00:01\u001b[0m0:01\u001b[0m\n",
      "\u001b[?25hDownloading nvidia_cuda_nvrtc_cu12-12.4.127-py3-none-manylinux2014_x86_64.whl (24.6 MB)\n",
      "\u001b[2K   \u001b[90m━━━━━━━━━━━━━━━━━━━━━━━━━━━━━━━━━━━━━━━━\u001b[0m \u001b[32m24.6/24.6 MB\u001b[0m \u001b[31m72.7 MB/s\u001b[0m eta \u001b[36m0:00:00\u001b[0m:00:01\u001b[0m00:01\u001b[0m\n",
      "\u001b[?25hDownloading nvidia_cuda_runtime_cu12-12.4.127-py3-none-manylinux2014_x86_64.whl (883 kB)\n",
      "\u001b[2K   \u001b[90m━━━━━━━━━━━━━━━━━━━━━━━━━━━━━━━━━━━━━━━━\u001b[0m \u001b[32m883.7/883.7 kB\u001b[0m \u001b[31m42.0 MB/s\u001b[0m eta \u001b[36m0:00:00\u001b[0m\n",
      "\u001b[?25hDownloading nvidia_cudnn_cu12-9.1.0.70-py3-none-manylinux2014_x86_64.whl (664.8 MB)\n",
      "\u001b[2K   \u001b[90m━━━━━━━━━━━━━━━━━━━━━━━━━━━━━━━━━━━━━━━━\u001b[0m \u001b[32m664.8/664.8 MB\u001b[0m \u001b[31m2.4 MB/s\u001b[0m eta \u001b[36m0:00:00\u001b[0m:00:01\u001b[0m00:01\u001b[0m\n",
      "\u001b[?25hDownloading nvidia_cufft_cu12-11.2.1.3-py3-none-manylinux2014_x86_64.whl (211.5 MB)\n",
      "\u001b[2K   \u001b[90m━━━━━━━━━━━━━━━━━━━━━━━━━━━━━━━━━━━━━━━━\u001b[0m \u001b[32m211.5/211.5 MB\u001b[0m \u001b[31m1.9 MB/s\u001b[0m eta \u001b[36m0:00:00\u001b[0m:00:01\u001b[0m00:01\u001b[0m\n",
      "\u001b[?25hDownloading nvidia_curand_cu12-10.3.5.147-py3-none-manylinux2014_x86_64.whl (56.3 MB)\n",
      "\u001b[2K   \u001b[90m━━━━━━━━━━━━━━━━━━━━━━━━━━━━━━━━━━━━━━━━\u001b[0m \u001b[32m56.3/56.3 MB\u001b[0m \u001b[31m30.6 MB/s\u001b[0m eta \u001b[36m0:00:00\u001b[0m:00:01\u001b[0m00:01\u001b[0m\n",
      "\u001b[?25hDownloading nvidia_cusolver_cu12-11.6.1.9-py3-none-manylinux2014_x86_64.whl (127.9 MB)\n",
      "\u001b[2K   \u001b[90m━━━━━━━━━━━━━━━━━━━━━━━━━━━━━━━━━━━━━━━━\u001b[0m \u001b[32m127.9/127.9 MB\u001b[0m \u001b[31m13.4 MB/s\u001b[0m eta \u001b[36m0:00:00\u001b[0m00:01\u001b[0m00:01\u001b[0m\n",
      "\u001b[?25hDownloading nvidia_cusparse_cu12-12.3.1.170-py3-none-manylinux2014_x86_64.whl (207.5 MB)\n",
      "\u001b[2K   \u001b[90m━━━━━━━━━━━━━━━━━━━━━━━━━━━━━━━━━━━━━━━━\u001b[0m \u001b[32m207.5/207.5 MB\u001b[0m \u001b[31m8.2 MB/s\u001b[0m eta \u001b[36m0:00:00\u001b[0m:00:01\u001b[0m00:01\u001b[0m\n",
      "\u001b[?25hDownloading nvidia_nvjitlink_cu12-12.4.127-py3-none-manylinux2014_x86_64.whl (21.1 MB)\n",
      "\u001b[2K   \u001b[90m━━━━━━━━━━━━━━━━━━━━━━━━━━━━━━━━━━━━━━━━\u001b[0m \u001b[32m21.1/21.1 MB\u001b[0m \u001b[31m88.5 MB/s\u001b[0m eta \u001b[36m0:00:00\u001b[0m:00:01\u001b[0m00:01\u001b[0m\n",
      "\u001b[?25hInstalling collected packages: nvidia-nvjitlink-cu12, nvidia-curand-cu12, nvidia-cufft-cu12, nvidia-cuda-runtime-cu12, nvidia-cuda-nvrtc-cu12, nvidia-cuda-cupti-cu12, nvidia-cublas-cu12, nvidia-cusparse-cu12, nvidia-cudnn-cu12, nvidia-cusolver-cu12\n",
      "  Attempting uninstall: nvidia-nvjitlink-cu12\n",
      "    Found existing installation: nvidia-nvjitlink-cu12 12.5.82\n",
      "    Uninstalling nvidia-nvjitlink-cu12-12.5.82:\n",
      "      Successfully uninstalled nvidia-nvjitlink-cu12-12.5.82\n",
      "  Attempting uninstall: nvidia-curand-cu12\n",
      "    Found existing installation: nvidia-curand-cu12 10.3.6.82\n",
      "    Uninstalling nvidia-curand-cu12-10.3.6.82:\n",
      "      Successfully uninstalled nvidia-curand-cu12-10.3.6.82\n",
      "  Attempting uninstall: nvidia-cufft-cu12\n",
      "    Found existing installation: nvidia-cufft-cu12 11.2.3.61\n",
      "    Uninstalling nvidia-cufft-cu12-11.2.3.61:\n",
      "      Successfully uninstalled nvidia-cufft-cu12-11.2.3.61\n",
      "  Attempting uninstall: nvidia-cuda-runtime-cu12\n",
      "    Found existing installation: nvidia-cuda-runtime-cu12 12.5.82\n",
      "    Uninstalling nvidia-cuda-runtime-cu12-12.5.82:\n",
      "      Successfully uninstalled nvidia-cuda-runtime-cu12-12.5.82\n",
      "  Attempting uninstall: nvidia-cuda-nvrtc-cu12\n",
      "    Found existing installation: nvidia-cuda-nvrtc-cu12 12.5.82\n",
      "    Uninstalling nvidia-cuda-nvrtc-cu12-12.5.82:\n",
      "      Successfully uninstalled nvidia-cuda-nvrtc-cu12-12.5.82\n",
      "  Attempting uninstall: nvidia-cuda-cupti-cu12\n",
      "    Found existing installation: nvidia-cuda-cupti-cu12 12.5.82\n",
      "    Uninstalling nvidia-cuda-cupti-cu12-12.5.82:\n",
      "      Successfully uninstalled nvidia-cuda-cupti-cu12-12.5.82\n",
      "  Attempting uninstall: nvidia-cublas-cu12\n",
      "    Found existing installation: nvidia-cublas-cu12 12.5.3.2\n",
      "    Uninstalling nvidia-cublas-cu12-12.5.3.2:\n",
      "      Successfully uninstalled nvidia-cublas-cu12-12.5.3.2\n",
      "  Attempting uninstall: nvidia-cusparse-cu12\n",
      "    Found existing installation: nvidia-cusparse-cu12 12.5.1.3\n",
      "    Uninstalling nvidia-cusparse-cu12-12.5.1.3:\n",
      "      Successfully uninstalled nvidia-cusparse-cu12-12.5.1.3\n",
      "  Attempting uninstall: nvidia-cudnn-cu12\n",
      "    Found existing installation: nvidia-cudnn-cu12 9.3.0.75\n",
      "    Uninstalling nvidia-cudnn-cu12-9.3.0.75:\n",
      "      Successfully uninstalled nvidia-cudnn-cu12-9.3.0.75\n",
      "  Attempting uninstall: nvidia-cusolver-cu12\n",
      "    Found existing installation: nvidia-cusolver-cu12 11.6.3.83\n",
      "    Uninstalling nvidia-cusolver-cu12-11.6.3.83:\n",
      "      Successfully uninstalled nvidia-cusolver-cu12-11.6.3.83\n",
      "Successfully installed nvidia-cublas-cu12-12.4.5.8 nvidia-cuda-cupti-cu12-12.4.127 nvidia-cuda-nvrtc-cu12-12.4.127 nvidia-cuda-runtime-cu12-12.4.127 nvidia-cudnn-cu12-9.1.0.70 nvidia-cufft-cu12-11.2.1.3 nvidia-curand-cu12-10.3.5.147 nvidia-cusolver-cu12-11.6.1.9 nvidia-cusparse-cu12-12.3.1.170 nvidia-nvjitlink-cu12-12.4.127\n",
      "Collecting bitsandbytes\n",
      "  Downloading bitsandbytes-0.46.1-py3-none-manylinux_2_24_x86_64.whl.metadata (10 kB)\n",
      "Requirement already satisfied: torch<3,>=2.2 in /usr/local/lib/python3.11/dist-packages (from bitsandbytes) (2.6.0+cu124)\n",
      "Requirement already satisfied: numpy>=1.17 in /usr/local/lib/python3.11/dist-packages (from bitsandbytes) (1.26.4)\n",
      "Requirement already satisfied: mkl_fft in /usr/local/lib/python3.11/dist-packages (from numpy>=1.17->bitsandbytes) (1.3.8)\n",
      "Requirement already satisfied: mkl_random in /usr/local/lib/python3.11/dist-packages (from numpy>=1.17->bitsandbytes) (1.2.4)\n",
      "Requirement already satisfied: mkl_umath in /usr/local/lib/python3.11/dist-packages (from numpy>=1.17->bitsandbytes) (0.1.1)\n",
      "Requirement already satisfied: mkl in /usr/local/lib/python3.11/dist-packages (from numpy>=1.17->bitsandbytes) (2025.2.0)\n",
      "Requirement already satisfied: tbb4py in /usr/local/lib/python3.11/dist-packages (from numpy>=1.17->bitsandbytes) (2022.2.0)\n",
      "Requirement already satisfied: mkl-service in /usr/local/lib/python3.11/dist-packages (from numpy>=1.17->bitsandbytes) (2.4.1)\n",
      "Requirement already satisfied: filelock in /usr/local/lib/python3.11/dist-packages (from torch<3,>=2.2->bitsandbytes) (3.18.0)\n",
      "Requirement already satisfied: typing-extensions>=4.10.0 in /usr/local/lib/python3.11/dist-packages (from torch<3,>=2.2->bitsandbytes) (4.14.0)\n",
      "Requirement already satisfied: networkx in /usr/local/lib/python3.11/dist-packages (from torch<3,>=2.2->bitsandbytes) (3.5)\n",
      "Requirement already satisfied: jinja2 in /usr/local/lib/python3.11/dist-packages (from torch<3,>=2.2->bitsandbytes) (3.1.6)\n",
      "Requirement already satisfied: fsspec in /usr/local/lib/python3.11/dist-packages (from torch<3,>=2.2->bitsandbytes) (2025.5.1)\n",
      "Requirement already satisfied: nvidia-cuda-nvrtc-cu12==12.4.127 in /usr/local/lib/python3.11/dist-packages (from torch<3,>=2.2->bitsandbytes) (12.4.127)\n",
      "Requirement already satisfied: nvidia-cuda-runtime-cu12==12.4.127 in /usr/local/lib/python3.11/dist-packages (from torch<3,>=2.2->bitsandbytes) (12.4.127)\n",
      "Requirement already satisfied: nvidia-cuda-cupti-cu12==12.4.127 in /usr/local/lib/python3.11/dist-packages (from torch<3,>=2.2->bitsandbytes) (12.4.127)\n",
      "Requirement already satisfied: nvidia-cudnn-cu12==9.1.0.70 in /usr/local/lib/python3.11/dist-packages (from torch<3,>=2.2->bitsandbytes) (9.1.0.70)\n",
      "Requirement already satisfied: nvidia-cublas-cu12==12.4.5.8 in /usr/local/lib/python3.11/dist-packages (from torch<3,>=2.2->bitsandbytes) (12.4.5.8)\n",
      "Requirement already satisfied: nvidia-cufft-cu12==11.2.1.3 in /usr/local/lib/python3.11/dist-packages (from torch<3,>=2.2->bitsandbytes) (11.2.1.3)\n",
      "Requirement already satisfied: nvidia-curand-cu12==10.3.5.147 in /usr/local/lib/python3.11/dist-packages (from torch<3,>=2.2->bitsandbytes) (10.3.5.147)\n",
      "Requirement already satisfied: nvidia-cusolver-cu12==11.6.1.9 in /usr/local/lib/python3.11/dist-packages (from torch<3,>=2.2->bitsandbytes) (11.6.1.9)\n",
      "Requirement already satisfied: nvidia-cusparse-cu12==12.3.1.170 in /usr/local/lib/python3.11/dist-packages (from torch<3,>=2.2->bitsandbytes) (12.3.1.170)\n",
      "Requirement already satisfied: nvidia-cusparselt-cu12==0.6.2 in /usr/local/lib/python3.11/dist-packages (from torch<3,>=2.2->bitsandbytes) (0.6.2)\n",
      "Requirement already satisfied: nvidia-nccl-cu12==2.21.5 in /usr/local/lib/python3.11/dist-packages (from torch<3,>=2.2->bitsandbytes) (2.21.5)\n",
      "Requirement already satisfied: nvidia-nvtx-cu12==12.4.127 in /usr/local/lib/python3.11/dist-packages (from torch<3,>=2.2->bitsandbytes) (12.4.127)\n",
      "Requirement already satisfied: nvidia-nvjitlink-cu12==12.4.127 in /usr/local/lib/python3.11/dist-packages (from torch<3,>=2.2->bitsandbytes) (12.4.127)\n",
      "Requirement already satisfied: triton==3.2.0 in /usr/local/lib/python3.11/dist-packages (from torch<3,>=2.2->bitsandbytes) (3.2.0)\n",
      "Requirement already satisfied: sympy==1.13.1 in /usr/local/lib/python3.11/dist-packages (from torch<3,>=2.2->bitsandbytes) (1.13.1)\n",
      "Requirement already satisfied: mpmath<1.4,>=1.1.0 in /usr/local/lib/python3.11/dist-packages (from sympy==1.13.1->torch<3,>=2.2->bitsandbytes) (1.3.0)\n",
      "Requirement already satisfied: MarkupSafe>=2.0 in /usr/local/lib/python3.11/dist-packages (from jinja2->torch<3,>=2.2->bitsandbytes) (3.0.2)\n",
      "Requirement already satisfied: intel-openmp<2026,>=2024 in /usr/local/lib/python3.11/dist-packages (from mkl->numpy>=1.17->bitsandbytes) (2024.2.0)\n",
      "Requirement already satisfied: tbb==2022.* in /usr/local/lib/python3.11/dist-packages (from mkl->numpy>=1.17->bitsandbytes) (2022.2.0)\n",
      "Requirement already satisfied: tcmlib==1.* in /usr/local/lib/python3.11/dist-packages (from tbb==2022.*->mkl->numpy>=1.17->bitsandbytes) (1.4.0)\n",
      "Requirement already satisfied: intel-cmplr-lib-rt in /usr/local/lib/python3.11/dist-packages (from mkl_umath->numpy>=1.17->bitsandbytes) (2024.2.0)\n",
      "Requirement already satisfied: intel-cmplr-lib-ur==2024.2.0 in /usr/local/lib/python3.11/dist-packages (from intel-openmp<2026,>=2024->mkl->numpy>=1.17->bitsandbytes) (2024.2.0)\n",
      "Downloading bitsandbytes-0.46.1-py3-none-manylinux_2_24_x86_64.whl (72.9 MB)\n",
      "\u001b[2K   \u001b[90m━━━━━━━━━━━━━━━━━━━━━━━━━━━━━━━━━━━━━━━━\u001b[0m \u001b[32m72.9/72.9 MB\u001b[0m \u001b[31m24.1 MB/s\u001b[0m eta \u001b[36m0:00:00\u001b[0m:00:01\u001b[0m00:01\u001b[0m\n",
      "\u001b[?25hInstalling collected packages: bitsandbytes\n",
      "Successfully installed bitsandbytes-0.46.1\n"
     ]
    }
   ],
   "source": [
    "!pip install accelerate #after this restart the session\n",
    "!pip install -U bitsandbytes"
   ]
  },
  {
   "cell_type": "code",
   "execution_count": 2,
   "metadata": {
    "execution": {
     "iopub.execute_input": "2025-07-29T08:23:07.608090Z",
     "iopub.status.busy": "2025-07-29T08:23:07.607717Z",
     "iopub.status.idle": "2025-07-29T08:23:13.725637Z",
     "shell.execute_reply": "2025-07-29T08:23:13.724783Z",
     "shell.execute_reply.started": "2025-07-29T08:23:07.608064Z"
    }
   },
   "outputs": [
    {
     "name": "stdout",
     "output_type": "stream",
     "text": [
      "Requirement already satisfied: openpyxl in /usr/local/lib/python3.11/dist-packages (3.1.5)\n",
      "Requirement already satisfied: et-xmlfile in /usr/local/lib/python3.11/dist-packages (from openpyxl) (2.0.0)\n",
      "Requirement already satisfied: seaborn in /usr/local/lib/python3.11/dist-packages (0.12.2)\n",
      "Requirement already satisfied: numpy!=1.24.0,>=1.17 in /usr/local/lib/python3.11/dist-packages (from seaborn) (1.26.4)\n",
      "Requirement already satisfied: pandas>=0.25 in /usr/local/lib/python3.11/dist-packages (from seaborn) (2.2.3)\n",
      "Requirement already satisfied: matplotlib!=3.6.1,>=3.1 in /usr/local/lib/python3.11/dist-packages (from seaborn) (3.7.2)\n",
      "Requirement already satisfied: contourpy>=1.0.1 in /usr/local/lib/python3.11/dist-packages (from matplotlib!=3.6.1,>=3.1->seaborn) (1.3.2)\n",
      "Requirement already satisfied: cycler>=0.10 in /usr/local/lib/python3.11/dist-packages (from matplotlib!=3.6.1,>=3.1->seaborn) (0.12.1)\n",
      "Requirement already satisfied: fonttools>=4.22.0 in /usr/local/lib/python3.11/dist-packages (from matplotlib!=3.6.1,>=3.1->seaborn) (4.58.4)\n",
      "Requirement already satisfied: kiwisolver>=1.0.1 in /usr/local/lib/python3.11/dist-packages (from matplotlib!=3.6.1,>=3.1->seaborn) (1.4.8)\n",
      "Requirement already satisfied: packaging>=20.0 in /usr/local/lib/python3.11/dist-packages (from matplotlib!=3.6.1,>=3.1->seaborn) (25.0)\n",
      "Requirement already satisfied: pillow>=6.2.0 in /usr/local/lib/python3.11/dist-packages (from matplotlib!=3.6.1,>=3.1->seaborn) (11.2.1)\n",
      "Requirement already satisfied: pyparsing<3.1,>=2.3.1 in /usr/local/lib/python3.11/dist-packages (from matplotlib!=3.6.1,>=3.1->seaborn) (3.0.9)\n",
      "Requirement already satisfied: python-dateutil>=2.7 in /usr/local/lib/python3.11/dist-packages (from matplotlib!=3.6.1,>=3.1->seaborn) (2.9.0.post0)\n",
      "Requirement already satisfied: mkl_fft in /usr/local/lib/python3.11/dist-packages (from numpy!=1.24.0,>=1.17->seaborn) (1.3.8)\n",
      "Requirement already satisfied: mkl_random in /usr/local/lib/python3.11/dist-packages (from numpy!=1.24.0,>=1.17->seaborn) (1.2.4)\n",
      "Requirement already satisfied: mkl_umath in /usr/local/lib/python3.11/dist-packages (from numpy!=1.24.0,>=1.17->seaborn) (0.1.1)\n",
      "Requirement already satisfied: mkl in /usr/local/lib/python3.11/dist-packages (from numpy!=1.24.0,>=1.17->seaborn) (2025.2.0)\n",
      "Requirement already satisfied: tbb4py in /usr/local/lib/python3.11/dist-packages (from numpy!=1.24.0,>=1.17->seaborn) (2022.2.0)\n",
      "Requirement already satisfied: mkl-service in /usr/local/lib/python3.11/dist-packages (from numpy!=1.24.0,>=1.17->seaborn) (2.4.1)\n",
      "Requirement already satisfied: pytz>=2020.1 in /usr/local/lib/python3.11/dist-packages (from pandas>=0.25->seaborn) (2025.2)\n",
      "Requirement already satisfied: tzdata>=2022.7 in /usr/local/lib/python3.11/dist-packages (from pandas>=0.25->seaborn) (2025.2)\n",
      "Requirement already satisfied: six>=1.5 in /usr/local/lib/python3.11/dist-packages (from python-dateutil>=2.7->matplotlib!=3.6.1,>=3.1->seaborn) (1.17.0)\n",
      "Requirement already satisfied: intel-openmp<2026,>=2024 in /usr/local/lib/python3.11/dist-packages (from mkl->numpy!=1.24.0,>=1.17->seaborn) (2024.2.0)\n",
      "Requirement already satisfied: tbb==2022.* in /usr/local/lib/python3.11/dist-packages (from mkl->numpy!=1.24.0,>=1.17->seaborn) (2022.2.0)\n",
      "Requirement already satisfied: tcmlib==1.* in /usr/local/lib/python3.11/dist-packages (from tbb==2022.*->mkl->numpy!=1.24.0,>=1.17->seaborn) (1.4.0)\n",
      "Requirement already satisfied: intel-cmplr-lib-rt in /usr/local/lib/python3.11/dist-packages (from mkl_umath->numpy!=1.24.0,>=1.17->seaborn) (2024.2.0)\n",
      "Requirement already satisfied: intel-cmplr-lib-ur==2024.2.0 in /usr/local/lib/python3.11/dist-packages (from intel-openmp<2026,>=2024->mkl->numpy!=1.24.0,>=1.17->seaborn) (2024.2.0)\n"
     ]
    }
   ],
   "source": [
    "!pip install openpyxl\n",
    "!pip install seaborn"
   ]
  },
  {
   "cell_type": "code",
   "execution_count": 3,
   "metadata": {
    "execution": {
     "iopub.execute_input": "2025-07-29T08:23:13.726849Z",
     "iopub.status.busy": "2025-07-29T08:23:13.726622Z",
     "iopub.status.idle": "2025-07-29T08:23:14.496697Z",
     "shell.execute_reply": "2025-07-29T08:23:14.495992Z",
     "shell.execute_reply.started": "2025-07-29T08:23:13.726823Z"
    }
   },
   "outputs": [
    {
     "name": "stdout",
     "output_type": "stream",
     "text": [
      "The token has not been saved to the git credentials helper. Pass `add_to_git_credential=True` in this function directly or `--add-to-git-credential` if using via `huggingface-cli` if you want to set the git credential as well.\n",
      "Token is valid (permission: read).\n",
      "The token `project-RAG` has been saved to /root/.cache/huggingface/stored_tokens\n",
      "Your token has been saved to /root/.cache/huggingface/token\n",
      "Login successful.\n",
      "The current active token is: `project-RAG`\n"
     ]
    }
   ],
   "source": [
    "!huggingface-cli login --token --token_KEY"
   ]
  },
  {
   "cell_type": "code",
   "execution_count": 4,
   "metadata": {
    "execution": {
     "iopub.execute_input": "2025-07-29T08:23:20.534929Z",
     "iopub.status.busy": "2025-07-29T08:23:20.534654Z",
     "iopub.status.idle": "2025-07-29T08:23:27.400644Z",
     "shell.execute_reply": "2025-07-29T08:23:27.400040Z",
     "shell.execute_reply.started": "2025-07-29T08:23:20.534901Z"
    }
   },
   "outputs": [],
   "source": [
    "import pandas as pd\n",
    "import numpy as np\n",
    "import matplotlib.pyplot as plt\n",
    "import seaborn as sns\n",
    "import os\n",
    "import pickle\n",
    "import time\n",
    "import transformers\n",
    "import torch\n"
   ]
  },
  {
   "cell_type": "code",
   "execution_count": 5,
   "metadata": {
    "execution": {
     "iopub.execute_input": "2025-07-29T08:23:27.402660Z",
     "iopub.status.busy": "2025-07-29T08:23:27.402107Z",
     "iopub.status.idle": "2025-07-29T08:23:28.446005Z",
     "shell.execute_reply": "2025-07-29T08:23:28.445261Z",
     "shell.execute_reply.started": "2025-07-29T08:23:27.402633Z"
    }
   },
   "outputs": [
    {
     "name": "stderr",
     "output_type": "stream",
     "text": [
      "[nltk_data] Downloading package punkt to /usr/share/nltk_data...\n",
      "[nltk_data]   Package punkt is already up-to-date!\n"
     ]
    },
    {
     "data": {
      "text/plain": [
       "True"
      ]
     },
     "execution_count": 5,
     "metadata": {},
     "output_type": "execute_result"
    }
   ],
   "source": [
    "from textblob import TextBlob\n",
    "import nltk\n",
    "nltk.download('punkt')"
   ]
  },
  {
   "cell_type": "markdown",
   "metadata": {},
   "source": [
    "# Data Loading and Cleaning"
   ]
  },
  {
   "cell_type": "code",
   "execution_count": 6,
   "metadata": {
    "execution": {
     "iopub.execute_input": "2025-07-29T08:23:28.447034Z",
     "iopub.status.busy": "2025-07-29T08:23:28.446824Z",
     "iopub.status.idle": "2025-07-29T08:23:35.860087Z",
     "shell.execute_reply": "2025-07-29T08:23:35.859214Z",
     "shell.execute_reply.started": "2025-07-29T08:23:28.447017Z"
    }
   },
   "outputs": [],
   "source": [
    "# --- Load Data ---\n",
    "data_all = pd.read_excel(\"/kaggle/input/dataset/pitchfork_reviews.xlsx\", sheet_name=\"Result 1\")\n"
   ]
  },
  {
   "cell_type": "code",
   "execution_count": 7,
   "metadata": {
    "execution": {
     "iopub.execute_input": "2025-07-29T08:23:35.861795Z",
     "iopub.status.busy": "2025-07-29T08:23:35.861401Z",
     "iopub.status.idle": "2025-07-29T08:23:35.891106Z",
     "shell.execute_reply": "2025-07-29T08:23:35.890361Z",
     "shell.execute_reply.started": "2025-07-29T08:23:35.861777Z"
    }
   },
   "outputs": [
    {
     "data": {
      "text/html": [
       "<div>\n",
       "<style scoped>\n",
       "    .dataframe tbody tr th:only-of-type {\n",
       "        vertical-align: middle;\n",
       "    }\n",
       "\n",
       "    .dataframe tbody tr th {\n",
       "        vertical-align: top;\n",
       "    }\n",
       "\n",
       "    .dataframe thead th {\n",
       "        text-align: right;\n",
       "    }\n",
       "</style>\n",
       "<table border=\"1\" class=\"dataframe\">\n",
       "  <thead>\n",
       "    <tr style=\"text-align: right;\">\n",
       "      <th></th>\n",
       "      <th>artist</th>\n",
       "      <th>album</th>\n",
       "      <th>score</th>\n",
       "      <th>year</th>\n",
       "      <th>reviewer</th>\n",
       "      <th>genre</th>\n",
       "      <th>label</th>\n",
       "      <th>review_date</th>\n",
       "      <th>summary</th>\n",
       "      <th>review</th>\n",
       "      <th>best_new</th>\n",
       "    </tr>\n",
       "  </thead>\n",
       "  <tbody>\n",
       "    <tr>\n",
       "      <th>0</th>\n",
       "      <td>Green-House</td>\n",
       "      <td>A Host for All Kinds of Life</td>\n",
       "      <td>7.6</td>\n",
       "      <td>2023</td>\n",
       "      <td>Hattie Lindert</td>\n",
       "      <td>Electronic / Experimental</td>\n",
       "      <td>Leaving</td>\n",
       "      <td>October 23, 2023</td>\n",
       "      <td>The Los Angeles ambient musician continues to ...</td>\n",
       "      <td>For proof that we all must ultimately coexist ...</td>\n",
       "      <td>Not Available</td>\n",
       "    </tr>\n",
       "    <tr>\n",
       "      <th>1</th>\n",
       "      <td>Tkay Maidza</td>\n",
       "      <td>Sweet Justice</td>\n",
       "      <td>7.6</td>\n",
       "      <td>2023</td>\n",
       "      <td>Dylan Green</td>\n",
       "      <td>Pop/R&amp;B</td>\n",
       "      <td>4AD</td>\n",
       "      <td>November 3, 2023</td>\n",
       "      <td>The Australian musician chooses herself over t...</td>\n",
       "      <td>Tkay Maidza’s three-partLast Year Was WeirdEP ...</td>\n",
       "      <td>Not Available</td>\n",
       "    </tr>\n",
       "    <tr>\n",
       "      <th>2</th>\n",
       "      <td>A Giant Dog</td>\n",
       "      <td>Bite</td>\n",
       "      <td>6.4</td>\n",
       "      <td>2023</td>\n",
       "      <td>Linnie Greene</td>\n",
       "      <td>Rock</td>\n",
       "      <td>Merge</td>\n",
       "      <td>August 28, 2023</td>\n",
       "      <td>On its first album in six years, the Austin gr...</td>\n",
       "      <td>A Giant Dog’sBite, the Austin, Texas, group’s ...</td>\n",
       "      <td>Not Available</td>\n",
       "    </tr>\n",
       "    <tr>\n",
       "      <th>3</th>\n",
       "      <td>Margaret Glaspy</td>\n",
       "      <td>Echo the Diamond</td>\n",
       "      <td>7.7</td>\n",
       "      <td>2023</td>\n",
       "      <td>Marc Hogan</td>\n",
       "      <td>Rock</td>\n",
       "      <td>ATO</td>\n",
       "      <td>August 23, 2023</td>\n",
       "      <td>On her third album, the Brooklyn musician scra...</td>\n",
       "      <td>Margaret Glaspyhad only a couple of EPs to her...</td>\n",
       "      <td>Not Available</td>\n",
       "    </tr>\n",
       "    <tr>\n",
       "      <th>4</th>\n",
       "      <td>Maria BC</td>\n",
       "      <td>Spike Field</td>\n",
       "      <td>7.8</td>\n",
       "      <td>2023</td>\n",
       "      <td>Hannah Jocelyn</td>\n",
       "      <td>Rock / Experimental</td>\n",
       "      <td>Sacred Bones</td>\n",
       "      <td>October 26, 2023</td>\n",
       "      <td>On their spectral new album, the Oakland music...</td>\n",
       "      <td>Since the 1980s, teams of engineers, anthropol...</td>\n",
       "      <td>Not Available</td>\n",
       "    </tr>\n",
       "  </tbody>\n",
       "</table>\n",
       "</div>"
      ],
      "text/plain": [
       "            artist                         album score  year        reviewer  \\\n",
       "0      Green-House  A Host for All Kinds of Life   7.6  2023  Hattie Lindert   \n",
       "1      Tkay Maidza                 Sweet Justice   7.6  2023     Dylan Green   \n",
       "2      A Giant Dog                          Bite   6.4  2023   Linnie Greene   \n",
       "3  Margaret Glaspy              Echo the Diamond   7.7  2023      Marc Hogan   \n",
       "4         Maria BC                   Spike Field   7.8  2023  Hannah Jocelyn   \n",
       "\n",
       "                       genre         label       review_date  \\\n",
       "0  Electronic / Experimental       Leaving  October 23, 2023   \n",
       "1                    Pop/R&B           4AD  November 3, 2023   \n",
       "2                       Rock         Merge   August 28, 2023   \n",
       "3                       Rock           ATO   August 23, 2023   \n",
       "4        Rock / Experimental  Sacred Bones  October 26, 2023   \n",
       "\n",
       "                                             summary  \\\n",
       "0  The Los Angeles ambient musician continues to ...   \n",
       "1  The Australian musician chooses herself over t...   \n",
       "2  On its first album in six years, the Austin gr...   \n",
       "3  On her third album, the Brooklyn musician scra...   \n",
       "4  On their spectral new album, the Oakland music...   \n",
       "\n",
       "                                              review       best_new  \n",
       "0  For proof that we all must ultimately coexist ...  Not Available  \n",
       "1  Tkay Maidza’s three-partLast Year Was WeirdEP ...  Not Available  \n",
       "2  A Giant Dog’sBite, the Austin, Texas, group’s ...  Not Available  \n",
       "3  Margaret Glaspyhad only a couple of EPs to her...  Not Available  \n",
       "4  Since the 1980s, teams of engineers, anthropol...  Not Available  "
      ]
     },
     "execution_count": 7,
     "metadata": {},
     "output_type": "execute_result"
    }
   ],
   "source": [
    "data_all.head()"
   ]
  },
  {
   "cell_type": "code",
   "execution_count": 8,
   "metadata": {
    "execution": {
     "iopub.execute_input": "2025-07-29T08:23:35.892061Z",
     "iopub.status.busy": "2025-07-29T08:23:35.891855Z",
     "iopub.status.idle": "2025-07-29T08:23:35.990733Z",
     "shell.execute_reply": "2025-07-29T08:23:35.989745Z",
     "shell.execute_reply.started": "2025-07-29T08:23:35.892044Z"
    }
   },
   "outputs": [
    {
     "data": {
      "text/html": [
       "<div>\n",
       "<style scoped>\n",
       "    .dataframe tbody tr th:only-of-type {\n",
       "        vertical-align: middle;\n",
       "    }\n",
       "\n",
       "    .dataframe tbody tr th {\n",
       "        vertical-align: top;\n",
       "    }\n",
       "\n",
       "    .dataframe thead th {\n",
       "        text-align: right;\n",
       "    }\n",
       "</style>\n",
       "<table border=\"1\" class=\"dataframe\">\n",
       "  <thead>\n",
       "    <tr style=\"text-align: right;\">\n",
       "      <th></th>\n",
       "      <th>artist</th>\n",
       "      <th>album</th>\n",
       "      <th>score</th>\n",
       "      <th>year</th>\n",
       "      <th>reviewer</th>\n",
       "      <th>genre</th>\n",
       "      <th>label</th>\n",
       "      <th>review_date</th>\n",
       "      <th>summary</th>\n",
       "      <th>review</th>\n",
       "      <th>best_new</th>\n",
       "    </tr>\n",
       "  </thead>\n",
       "  <tbody>\n",
       "    <tr>\n",
       "      <th>count</th>\n",
       "      <td>25707</td>\n",
       "      <td>25707</td>\n",
       "      <td>25708</td>\n",
       "      <td>25708</td>\n",
       "      <td>25708</td>\n",
       "      <td>25708</td>\n",
       "      <td>25708</td>\n",
       "      <td>25708</td>\n",
       "      <td>25703</td>\n",
       "      <td>25107</td>\n",
       "      <td>25708</td>\n",
       "    </tr>\n",
       "    <tr>\n",
       "      <th>unique</th>\n",
       "      <td>11144</td>\n",
       "      <td>24177</td>\n",
       "      <td>102</td>\n",
       "      <td>65</td>\n",
       "      <td>635</td>\n",
       "      <td>151</td>\n",
       "      <td>7457</td>\n",
       "      <td>6232</td>\n",
       "      <td>24805</td>\n",
       "      <td>25085</td>\n",
       "      <td>3</td>\n",
       "    </tr>\n",
       "    <tr>\n",
       "      <th>top</th>\n",
       "      <td>Various Artists</td>\n",
       "      <td>Not Available</td>\n",
       "      <td>7.5</td>\n",
       "      <td>2007</td>\n",
       "      <td>Not Available</td>\n",
       "      <td>Rock</td>\n",
       "      <td>Not Available</td>\n",
       "      <td>Not Available</td>\n",
       "      <td>Not Available</td>\n",
       "      <td>It was probably overstated, but a few years ag...</td>\n",
       "      <td>Not Available</td>\n",
       "    </tr>\n",
       "    <tr>\n",
       "      <th>freq</th>\n",
       "      <td>791</td>\n",
       "      <td>598</td>\n",
       "      <td>1321</td>\n",
       "      <td>1236</td>\n",
       "      <td>1860</td>\n",
       "      <td>8638</td>\n",
       "      <td>600</td>\n",
       "      <td>2945</td>\n",
       "      <td>850</td>\n",
       "      <td>2</td>\n",
       "      <td>24389</td>\n",
       "    </tr>\n",
       "  </tbody>\n",
       "</table>\n",
       "</div>"
      ],
      "text/plain": [
       "                 artist          album  score   year       reviewer  genre  \\\n",
       "count             25707          25707  25708  25708          25708  25708   \n",
       "unique            11144          24177    102     65            635    151   \n",
       "top     Various Artists  Not Available    7.5   2007  Not Available   Rock   \n",
       "freq                791            598   1321   1236           1860   8638   \n",
       "\n",
       "                label    review_date        summary  \\\n",
       "count           25708          25708          25703   \n",
       "unique           7457           6232          24805   \n",
       "top     Not Available  Not Available  Not Available   \n",
       "freq              600           2945            850   \n",
       "\n",
       "                                                   review       best_new  \n",
       "count                                               25107          25708  \n",
       "unique                                              25085              3  \n",
       "top     It was probably overstated, but a few years ag...  Not Available  \n",
       "freq                                                    2          24389  "
      ]
     },
     "execution_count": 8,
     "metadata": {},
     "output_type": "execute_result"
    }
   ],
   "source": [
    "data_all.describe()"
   ]
  },
  {
   "cell_type": "code",
   "execution_count": 9,
   "metadata": {
    "execution": {
     "iopub.execute_input": "2025-07-29T08:23:35.992242Z",
     "iopub.status.busy": "2025-07-29T08:23:35.991649Z",
     "iopub.status.idle": "2025-07-29T08:23:36.206286Z",
     "shell.execute_reply": "2025-07-29T08:23:36.205577Z",
     "shell.execute_reply.started": "2025-07-29T08:23:35.992214Z"
    }
   },
   "outputs": [],
   "source": [
    "# Remove HTML: If reviews were scraped, they likely contain HTML tags. Use a library like BeautifulSoup\n",
    "from bs4 import BeautifulSoup\n",
    "def strip_html(text):\n",
    "    if isinstance(text, str):\n",
    "        soup = BeautifulSoup(text, \"html.parser\")\n",
    "        return soup.get_text()\n",
    "    return text\n",
    "# Normalize Whitespace: Remove extra spaces, newlines, tabs.\n",
    "def normalize_whitespace(text):\n",
    "    if isinstance(text, str):\n",
    "        return \" \".join(text.split())\n",
    "    return text"
   ]
  },
  {
   "cell_type": "code",
   "execution_count": 10,
   "metadata": {
    "execution": {
     "iopub.execute_input": "2025-07-29T08:23:36.207260Z",
     "iopub.status.busy": "2025-07-29T08:23:36.206982Z",
     "iopub.status.idle": "2025-07-29T08:23:36.248140Z",
     "shell.execute_reply": "2025-07-29T08:23:36.247377Z",
     "shell.execute_reply.started": "2025-07-29T08:23:36.207239Z"
    }
   },
   "outputs": [
    {
     "data": {
      "text/plain": [
       "25708"
      ]
     },
     "execution_count": 10,
     "metadata": {},
     "output_type": "execute_result"
    }
   ],
   "source": [
    "import numpy as np\n",
    "\n",
    "# Replace \"Not Available\" with NaN\n",
    "data_all.replace(\"Not Available\", np.nan, inplace=True)\n",
    "len(data_all)\n"
   ]
  },
  {
   "cell_type": "code",
   "execution_count": 11,
   "metadata": {
    "execution": {
     "iopub.execute_input": "2025-07-29T08:23:36.249487Z",
     "iopub.status.busy": "2025-07-29T08:23:36.248979Z",
     "iopub.status.idle": "2025-07-29T08:23:36.256815Z",
     "shell.execute_reply": "2025-07-29T08:23:36.256059Z",
     "shell.execute_reply.started": "2025-07-29T08:23:36.249463Z"
    }
   },
   "outputs": [
    {
     "name": "stdout",
     "output_type": "stream",
     "text": [
      "Processed 'best_new' column. NaNs filled with False, type converted to boolean.\n"
     ]
    }
   ],
   "source": [
    "if 'best_new' in data_all.columns:\n",
    "    # Convert potential string \"True\"/\"False\" or boolean True/False, and NaNs to a consistent boolean type.\n",
    "    # NaNs (which came from \"Not Available\") will be treated as False.\n",
    "    # If 'best_new' is already boolean and just has NaNs, fillna(False) is enough.\n",
    "    # If it might contain strings 'True'/'False', a map can be more robust.\n",
    "    # For simplicity, assuming it's either boolean, or NaN which means False for \"Best New Music\"\n",
    "    data_all['best_new'] = data_all['best_new'].fillna(False).astype(bool)\n",
    "    print(\"Processed 'best_new' column. NaNs filled with False, type converted to boolean.\")\n",
    "else:\n",
    "    print(\"'best_new' column not found. Cannot process it.\")"
   ]
  },
  {
   "cell_type": "code",
   "execution_count": 12,
   "metadata": {
    "execution": {
     "iopub.execute_input": "2025-07-29T08:23:36.257635Z",
     "iopub.status.busy": "2025-07-29T08:23:36.257447Z",
     "iopub.status.idle": "2025-07-29T08:23:36.269336Z",
     "shell.execute_reply": "2025-07-29T08:23:36.268735Z",
     "shell.execute_reply.started": "2025-07-29T08:23:36.257621Z"
    }
   },
   "outputs": [
    {
     "name": "stdout",
     "output_type": "stream",
     "text": [
      "genre\n",
      "Rock                                    8638\n",
      "Electronic                              2973\n",
      "NaN                                     2945\n",
      "Rap                                     2366\n",
      "Pop/R&B                                 1695\n",
      "                                        ... \n",
      "Global / Rap                               1\n",
      "Rock / Experimental / Jazz                 1\n",
      "Electronic / Global / Rap                  1\n",
      "Global / Pop/R&B / Electronic / Rock       1\n",
      "Experimental / Folk/Country / Jazz         1\n",
      "Name: count, Length: 151, dtype: int64\n"
     ]
    }
   ],
   "source": [
    "print(data_all['genre'].value_counts(dropna=False))\n"
   ]
  },
  {
   "cell_type": "code",
   "execution_count": 13,
   "metadata": {
    "execution": {
     "iopub.execute_input": "2025-07-29T08:23:36.271749Z",
     "iopub.status.busy": "2025-07-29T08:23:36.271501Z",
     "iopub.status.idle": "2025-07-29T08:23:36.283617Z",
     "shell.execute_reply": "2025-07-29T08:23:36.282957Z",
     "shell.execute_reply.started": "2025-07-29T08:23:36.271733Z"
    }
   },
   "outputs": [
    {
     "data": {
      "text/plain": [
       "25708"
      ]
     },
     "execution_count": 13,
     "metadata": {},
     "output_type": "execute_result"
    }
   ],
   "source": [
    "len(data_all)"
   ]
  },
  {
   "cell_type": "code",
   "execution_count": 14,
   "metadata": {
    "execution": {
     "iopub.execute_input": "2025-07-29T08:23:36.284569Z",
     "iopub.status.busy": "2025-07-29T08:23:36.284301Z",
     "iopub.status.idle": "2025-07-29T08:23:36.331923Z",
     "shell.execute_reply": "2025-07-29T08:23:36.331387Z",
     "shell.execute_reply.started": "2025-07-29T08:23:36.284544Z"
    }
   },
   "outputs": [],
   "source": [
    "essential_cols = ['artist', 'album', 'review', 'score'] # Add 'summary' if it's a primary text source\n",
    "data_all.dropna(subset=essential_cols, inplace=True)\n",
    "data_all.drop_duplicates(subset=['artist', 'album'], inplace=True, keep='first')"
   ]
  },
  {
   "cell_type": "code",
   "execution_count": 15,
   "metadata": {
    "execution": {
     "iopub.execute_input": "2025-07-29T08:23:36.332785Z",
     "iopub.status.busy": "2025-07-29T08:23:36.332578Z",
     "iopub.status.idle": "2025-07-29T08:23:36.352244Z",
     "shell.execute_reply": "2025-07-29T08:23:36.351551Z",
     "shell.execute_reply.started": "2025-07-29T08:23:36.332771Z"
    }
   },
   "outputs": [],
   "source": [
    "data_all.dropna(inplace=True)\n"
   ]
  },
  {
   "cell_type": "code",
   "execution_count": 16,
   "metadata": {
    "execution": {
     "iopub.execute_input": "2025-07-29T08:23:36.353289Z",
     "iopub.status.busy": "2025-07-29T08:23:36.353029Z",
     "iopub.status.idle": "2025-07-29T08:23:36.383140Z",
     "shell.execute_reply": "2025-07-29T08:23:36.382388Z",
     "shell.execute_reply.started": "2025-07-29T08:23:36.353273Z"
    }
   },
   "outputs": [
    {
     "data": {
      "text/html": [
       "<div>\n",
       "<style scoped>\n",
       "    .dataframe tbody tr th:only-of-type {\n",
       "        vertical-align: middle;\n",
       "    }\n",
       "\n",
       "    .dataframe tbody tr th {\n",
       "        vertical-align: top;\n",
       "    }\n",
       "\n",
       "    .dataframe thead th {\n",
       "        text-align: right;\n",
       "    }\n",
       "</style>\n",
       "<table border=\"1\" class=\"dataframe\">\n",
       "  <thead>\n",
       "    <tr style=\"text-align: right;\">\n",
       "      <th></th>\n",
       "      <th>artist</th>\n",
       "      <th>album</th>\n",
       "      <th>score</th>\n",
       "      <th>year</th>\n",
       "      <th>reviewer</th>\n",
       "      <th>genre</th>\n",
       "      <th>label</th>\n",
       "      <th>review_date</th>\n",
       "      <th>summary</th>\n",
       "      <th>review</th>\n",
       "      <th>best_new</th>\n",
       "    </tr>\n",
       "  </thead>\n",
       "  <tbody>\n",
       "    <tr>\n",
       "      <th>0</th>\n",
       "      <td>Green-House</td>\n",
       "      <td>A Host for All Kinds of Life</td>\n",
       "      <td>7.6</td>\n",
       "      <td>2023</td>\n",
       "      <td>Hattie Lindert</td>\n",
       "      <td>Electronic / Experimental</td>\n",
       "      <td>Leaving</td>\n",
       "      <td>October 23, 2023</td>\n",
       "      <td>The Los Angeles ambient musician continues to ...</td>\n",
       "      <td>For proof that we all must ultimately coexist ...</td>\n",
       "      <td>False</td>\n",
       "    </tr>\n",
       "    <tr>\n",
       "      <th>1</th>\n",
       "      <td>Tkay Maidza</td>\n",
       "      <td>Sweet Justice</td>\n",
       "      <td>7.6</td>\n",
       "      <td>2023</td>\n",
       "      <td>Dylan Green</td>\n",
       "      <td>Pop/R&amp;B</td>\n",
       "      <td>4AD</td>\n",
       "      <td>November 3, 2023</td>\n",
       "      <td>The Australian musician chooses herself over t...</td>\n",
       "      <td>Tkay Maidza’s three-partLast Year Was WeirdEP ...</td>\n",
       "      <td>False</td>\n",
       "    </tr>\n",
       "    <tr>\n",
       "      <th>2</th>\n",
       "      <td>A Giant Dog</td>\n",
       "      <td>Bite</td>\n",
       "      <td>6.4</td>\n",
       "      <td>2023</td>\n",
       "      <td>Linnie Greene</td>\n",
       "      <td>Rock</td>\n",
       "      <td>Merge</td>\n",
       "      <td>August 28, 2023</td>\n",
       "      <td>On its first album in six years, the Austin gr...</td>\n",
       "      <td>A Giant Dog’sBite, the Austin, Texas, group’s ...</td>\n",
       "      <td>False</td>\n",
       "    </tr>\n",
       "    <tr>\n",
       "      <th>3</th>\n",
       "      <td>Margaret Glaspy</td>\n",
       "      <td>Echo the Diamond</td>\n",
       "      <td>7.7</td>\n",
       "      <td>2023</td>\n",
       "      <td>Marc Hogan</td>\n",
       "      <td>Rock</td>\n",
       "      <td>ATO</td>\n",
       "      <td>August 23, 2023</td>\n",
       "      <td>On her third album, the Brooklyn musician scra...</td>\n",
       "      <td>Margaret Glaspyhad only a couple of EPs to her...</td>\n",
       "      <td>False</td>\n",
       "    </tr>\n",
       "    <tr>\n",
       "      <th>4</th>\n",
       "      <td>Maria BC</td>\n",
       "      <td>Spike Field</td>\n",
       "      <td>7.8</td>\n",
       "      <td>2023</td>\n",
       "      <td>Hannah Jocelyn</td>\n",
       "      <td>Rock / Experimental</td>\n",
       "      <td>Sacred Bones</td>\n",
       "      <td>October 26, 2023</td>\n",
       "      <td>On their spectral new album, the Oakland music...</td>\n",
       "      <td>Since the 1980s, teams of engineers, anthropol...</td>\n",
       "      <td>False</td>\n",
       "    </tr>\n",
       "    <tr>\n",
       "      <th>...</th>\n",
       "      <td>...</td>\n",
       "      <td>...</td>\n",
       "      <td>...</td>\n",
       "      <td>...</td>\n",
       "      <td>...</td>\n",
       "      <td>...</td>\n",
       "      <td>...</td>\n",
       "      <td>...</td>\n",
       "      <td>...</td>\n",
       "      <td>...</td>\n",
       "      <td>...</td>\n",
       "    </tr>\n",
       "    <tr>\n",
       "      <th>25672</th>\n",
       "      <td>Saint Etienne</td>\n",
       "      <td>Interlude</td>\n",
       "      <td>7.8</td>\n",
       "      <td>2001</td>\n",
       "      <td>Rich Juzwiak</td>\n",
       "      <td>Electronic / Rock</td>\n",
       "      <td>Sub Pop</td>\n",
       "      <td>February 20, 2001</td>\n",
       "      <td>I don't have an exact formula, but I figure th...</td>\n",
       "      <td>I don't have an exact formula, but I figure th...</td>\n",
       "      <td>False</td>\n",
       "    </tr>\n",
       "    <tr>\n",
       "      <th>25674</th>\n",
       "      <td>John Zorn</td>\n",
       "      <td>Songs from the Hermetic Theatre</td>\n",
       "      <td>8.6</td>\n",
       "      <td>2001</td>\n",
       "      <td>Brent S. Sirota</td>\n",
       "      <td>Experimental / Jazz</td>\n",
       "      <td>Tzadik</td>\n",
       "      <td>June 26, 2001</td>\n",
       "      <td>Feeling irremediably bourgeois? Complacent? Ti...</td>\n",
       "      <td>Feeling irremediably bourgeois? Complacent? Ti...</td>\n",
       "      <td>False</td>\n",
       "    </tr>\n",
       "    <tr>\n",
       "      <th>25683</th>\n",
       "      <td>The Long Winters</td>\n",
       "      <td>The Worst You Can Do Is Harm</td>\n",
       "      <td>7.3</td>\n",
       "      <td>2002</td>\n",
       "      <td>Rob  Mitchum</td>\n",
       "      <td>Rock</td>\n",
       "      <td>Barsuk</td>\n",
       "      <td>March 25, 2002</td>\n",
       "      <td>WASHINGTON-- In a stunning move reflecting yet...</td>\n",
       "      <td>WASHINGTON-- In a stunning move reflecting yet...</td>\n",
       "      <td>False</td>\n",
       "    </tr>\n",
       "    <tr>\n",
       "      <th>25687</th>\n",
       "      <td>Mogwai</td>\n",
       "      <td>Rock Action</td>\n",
       "      <td>8.0</td>\n",
       "      <td>2001</td>\n",
       "      <td>Matt LeMay</td>\n",
       "      <td>Rock</td>\n",
       "      <td>Matador</td>\n",
       "      <td>April 30, 2001</td>\n",
       "      <td>There are a few things in this world I'm prett...</td>\n",
       "      <td>There are a few things in this world I'm prett...</td>\n",
       "      <td>False</td>\n",
       "    </tr>\n",
       "    <tr>\n",
       "      <th>25706</th>\n",
       "      <td>Cannibal Ox</td>\n",
       "      <td>The Cold Vein</td>\n",
       "      <td>8.3</td>\n",
       "      <td>2001</td>\n",
       "      <td>Christopher Dare</td>\n",
       "      <td>Rap</td>\n",
       "      <td>Definitive Jux</td>\n",
       "      <td>May 15, 2001</td>\n",
       "      <td>I rented the filmRavenouslast weekend. I'm not...</td>\n",
       "      <td>I rented the filmRavenouslast weekend. I'm not...</td>\n",
       "      <td>False</td>\n",
       "    </tr>\n",
       "  </tbody>\n",
       "</table>\n",
       "<p>20508 rows × 11 columns</p>\n",
       "</div>"
      ],
      "text/plain": [
       "                 artist                            album score  year  \\\n",
       "0           Green-House     A Host for All Kinds of Life   7.6  2023   \n",
       "1           Tkay Maidza                    Sweet Justice   7.6  2023   \n",
       "2           A Giant Dog                             Bite   6.4  2023   \n",
       "3       Margaret Glaspy                 Echo the Diamond   7.7  2023   \n",
       "4              Maria BC                      Spike Field   7.8  2023   \n",
       "...                 ...                              ...   ...   ...   \n",
       "25672     Saint Etienne                        Interlude   7.8  2001   \n",
       "25674         John Zorn  Songs from the Hermetic Theatre   8.6  2001   \n",
       "25683  The Long Winters     The Worst You Can Do Is Harm   7.3  2002   \n",
       "25687            Mogwai                      Rock Action   8.0  2001   \n",
       "25706       Cannibal Ox                    The Cold Vein   8.3  2001   \n",
       "\n",
       "               reviewer                      genre           label  \\\n",
       "0        Hattie Lindert  Electronic / Experimental         Leaving   \n",
       "1           Dylan Green                    Pop/R&B             4AD   \n",
       "2         Linnie Greene                       Rock           Merge   \n",
       "3            Marc Hogan                       Rock             ATO   \n",
       "4        Hannah Jocelyn        Rock / Experimental    Sacred Bones   \n",
       "...                 ...                        ...             ...   \n",
       "25672      Rich Juzwiak          Electronic / Rock         Sub Pop   \n",
       "25674   Brent S. Sirota        Experimental / Jazz          Tzadik   \n",
       "25683      Rob  Mitchum                       Rock          Barsuk   \n",
       "25687        Matt LeMay                       Rock         Matador   \n",
       "25706  Christopher Dare                        Rap  Definitive Jux   \n",
       "\n",
       "             review_date                                            summary  \\\n",
       "0       October 23, 2023  The Los Angeles ambient musician continues to ...   \n",
       "1       November 3, 2023  The Australian musician chooses herself over t...   \n",
       "2        August 28, 2023  On its first album in six years, the Austin gr...   \n",
       "3        August 23, 2023  On her third album, the Brooklyn musician scra...   \n",
       "4       October 26, 2023  On their spectral new album, the Oakland music...   \n",
       "...                  ...                                                ...   \n",
       "25672  February 20, 2001  I don't have an exact formula, but I figure th...   \n",
       "25674      June 26, 2001  Feeling irremediably bourgeois? Complacent? Ti...   \n",
       "25683     March 25, 2002  WASHINGTON-- In a stunning move reflecting yet...   \n",
       "25687     April 30, 2001  There are a few things in this world I'm prett...   \n",
       "25706       May 15, 2001  I rented the filmRavenouslast weekend. I'm not...   \n",
       "\n",
       "                                                  review  best_new  \n",
       "0      For proof that we all must ultimately coexist ...     False  \n",
       "1      Tkay Maidza’s three-partLast Year Was WeirdEP ...     False  \n",
       "2      A Giant Dog’sBite, the Austin, Texas, group’s ...     False  \n",
       "3      Margaret Glaspyhad only a couple of EPs to her...     False  \n",
       "4      Since the 1980s, teams of engineers, anthropol...     False  \n",
       "...                                                  ...       ...  \n",
       "25672  I don't have an exact formula, but I figure th...     False  \n",
       "25674  Feeling irremediably bourgeois? Complacent? Ti...     False  \n",
       "25683  WASHINGTON-- In a stunning move reflecting yet...     False  \n",
       "25687  There are a few things in this world I'm prett...     False  \n",
       "25706  I rented the filmRavenouslast weekend. I'm not...     False  \n",
       "\n",
       "[20508 rows x 11 columns]"
      ]
     },
     "execution_count": 16,
     "metadata": {},
     "output_type": "execute_result"
    }
   ],
   "source": [
    "data_all['year'] = pd.to_numeric(data_all['year'], errors='coerce')  # Convert to numbers, set invalid to NaN\n",
    "data_all = data_all[(data_all['year'] >= 2001) & (data_all['year'] <= 2023)]\n",
    "data_all"
   ]
  },
  {
   "cell_type": "code",
   "execution_count": 17,
   "metadata": {
    "execution": {
     "iopub.execute_input": "2025-07-29T08:23:36.384136Z",
     "iopub.status.busy": "2025-07-29T08:23:36.383962Z",
     "iopub.status.idle": "2025-07-29T08:23:36.388671Z",
     "shell.execute_reply": "2025-07-29T08:23:36.387879Z",
     "shell.execute_reply.started": "2025-07-29T08:23:36.384122Z"
    }
   },
   "outputs": [
    {
     "data": {
      "text/plain": [
       "20508"
      ]
     },
     "execution_count": 17,
     "metadata": {},
     "output_type": "execute_result"
    }
   ],
   "source": [
    "len(data_all)"
   ]
  },
  {
   "cell_type": "code",
   "execution_count": 18,
   "metadata": {
    "execution": {
     "iopub.execute_input": "2025-07-29T08:23:36.389689Z",
     "iopub.status.busy": "2025-07-29T08:23:36.389401Z",
     "iopub.status.idle": "2025-07-29T08:23:36.404430Z",
     "shell.execute_reply": "2025-07-29T08:23:36.403854Z",
     "shell.execute_reply.started": "2025-07-29T08:23:36.389670Z"
    }
   },
   "outputs": [],
   "source": [
    "# Fill missing genres\n",
    "data_all['genre'] = data_all['genre'].fillna(\"Unknown\")"
   ]
  },
  {
   "cell_type": "code",
   "execution_count": 19,
   "metadata": {
    "execution": {
     "iopub.execute_input": "2025-07-29T08:23:36.405350Z",
     "iopub.status.busy": "2025-07-29T08:23:36.405187Z",
     "iopub.status.idle": "2025-07-29T08:23:36.423595Z",
     "shell.execute_reply": "2025-07-29T08:23:36.423039Z",
     "shell.execute_reply.started": "2025-07-29T08:23:36.405337Z"
    }
   },
   "outputs": [],
   "source": [
    "# Drop unnecessary columns\n",
    "columns_to_drop = ['reviewer', 'label', 'review_date']\n",
    "existing_columns_to_drop = [col for col in columns_to_drop if col in data_all.columns]\n",
    "if existing_columns_to_drop:\n",
    "    data_all.drop(columns=existing_columns_to_drop, inplace=True)\n"
   ]
  },
  {
   "cell_type": "code",
   "execution_count": 20,
   "metadata": {
    "execution": {
     "iopub.execute_input": "2025-07-29T08:23:36.424433Z",
     "iopub.status.busy": "2025-07-29T08:23:36.424243Z",
     "iopub.status.idle": "2025-07-29T08:23:36.449757Z",
     "shell.execute_reply": "2025-07-29T08:23:36.449189Z",
     "shell.execute_reply.started": "2025-07-29T08:23:36.424420Z"
    }
   },
   "outputs": [
    {
     "name": "stdout",
     "output_type": "stream",
     "text": [
      "Null counts after cleaning:\n",
      "artist      0\n",
      "album       0\n",
      "score       0\n",
      "year        0\n",
      "genre       0\n",
      "summary     0\n",
      "review      0\n",
      "best_new    0\n",
      "dtype: int64\n",
      "\n",
      "\n"
     ]
    }
   ],
   "source": [
    "\n",
    "# Verify null counts for the remaining important columns\n",
    "print(\"Null counts after cleaning:\")\n",
    "relevant_cols_for_null_check = ['artist', 'album', 'score', 'year', 'genre', 'summary', 'review', 'best_new']\n",
    "existing_relevant_cols = [col for col in relevant_cols_for_null_check if col in data_all.columns]\n",
    "if existing_relevant_cols:\n",
    "    print(data_all[existing_relevant_cols].isnull().sum())\n",
    "else:\n",
    "    print(\"No relevant columns found for null check (this is unexpected).\")\n",
    "print(\"\\n\")"
   ]
  },
  {
   "cell_type": "code",
   "execution_count": 21,
   "metadata": {
    "execution": {
     "iopub.execute_input": "2025-07-29T08:23:36.450708Z",
     "iopub.status.busy": "2025-07-29T08:23:36.450438Z",
     "iopub.status.idle": "2025-07-29T08:23:39.009019Z",
     "shell.execute_reply": "2025-07-29T08:23:39.008167Z",
     "shell.execute_reply.started": "2025-07-29T08:23:36.450688Z"
    }
   },
   "outputs": [
    {
     "name": "stdout",
     "output_type": "stream",
     "text": [
      "Cleaned data saved. Shape: (20508, 8)\n"
     ]
    }
   ],
   "source": [
    "data_all.to_csv('reviews.csv', index=False)\n",
    "print(f\"Cleaned data saved. Shape: {data_all.shape}\")"
   ]
  },
  {
   "cell_type": "code",
   "execution_count": 22,
   "metadata": {
    "execution": {
     "iopub.execute_input": "2025-07-29T08:23:39.010404Z",
     "iopub.status.busy": "2025-07-29T08:23:39.009866Z",
     "iopub.status.idle": "2025-07-29T08:23:40.034991Z",
     "shell.execute_reply": "2025-07-29T08:23:40.034084Z",
     "shell.execute_reply.started": "2025-07-29T08:23:39.010377Z"
    }
   },
   "outputs": [],
   "source": [
    "# Load the cleaned data for EDA\n",
    "data = pd.read_csv('reviews.csv')\n"
   ]
  },
  {
   "cell_type": "markdown",
   "metadata": {},
   "source": [
    "# 1. Review Length Distribution"
   ]
  },
  {
   "cell_type": "code",
   "execution_count": 23,
   "metadata": {
    "execution": {
     "iopub.execute_input": "2025-07-29T08:23:40.044646Z",
     "iopub.status.busy": "2025-07-29T08:23:40.043961Z",
     "iopub.status.idle": "2025-07-29T08:23:40.547614Z",
     "shell.execute_reply": "2025-07-29T08:23:40.546740Z",
     "shell.execute_reply.started": "2025-07-29T08:23:40.044626Z"
    }
   },
   "outputs": [
    {
     "name": "stderr",
     "output_type": "stream",
     "text": [
      "/usr/local/lib/python3.11/dist-packages/seaborn/_oldcore.py:1119: FutureWarning: use_inf_as_na option is deprecated and will be removed in a future version. Convert inf values to NaN before operating instead.\n",
      "  with pd.option_context('mode.use_inf_as_na', True):\n"
     ]
    },
    {
     "data": {
      "image/png": "[encoded data removed]",
      "text/plain": [
       "<Figure size 1000x600 with 1 Axes>"
      ]
     },
     "metadata": {},
     "output_type": "display_data"
    },
    {
     "name": "stdout",
     "output_type": "stream",
     "text": [
      "count    20508.000000\n",
      "mean      4082.430954\n",
      "std       1338.974157\n",
      "min         59.000000\n",
      "25%       3201.000000\n",
      "50%       3830.500000\n",
      "75%       4654.000000\n",
      "max      20890.000000\n",
      "Name: review_length, dtype: float64\n"
     ]
    }
   ],
   "source": [
    "data['review_length'] = data['review'].str.len()\n",
    "plt.figure(figsize=(10, 6))\n",
    "sns.histplot(data['review_length'], kde=True, bins=50, color='darkorange')\n",
    "plt.xlabel('Review Length (characters)')\n",
    "plt.ylabel('Frequency')\n",
    "plt.title('Distribution of Review Lengths')\n",
    "plt.show()\n",
    "print(data[\"review_length\"].describe())"
   ]
  },
  {
   "cell_type": "markdown",
   "metadata": {},
   "source": [
    "# 2. Reviews by Year"
   ]
  },
  {
   "cell_type": "code",
   "execution_count": 24,
   "metadata": {
    "execution": {
     "iopub.execute_input": "2025-07-29T08:23:41.559490Z",
     "iopub.status.busy": "2025-07-29T08:23:41.559201Z",
     "iopub.status.idle": "2025-07-29T08:23:41.811700Z",
     "shell.execute_reply": "2025-07-29T08:23:41.810889Z",
     "shell.execute_reply.started": "2025-07-29T08:23:41.559469Z"
    }
   },
   "outputs": [
    {
     "name": "stderr",
     "output_type": "stream",
     "text": [
      "/usr/local/lib/python3.11/dist-packages/seaborn/_oldcore.py:1119: FutureWarning: use_inf_as_na option is deprecated and will be removed in a future version. Convert inf values to NaN before operating instead.\n",
      "  with pd.option_context('mode.use_inf_as_na', True):\n"
     ]
    },
    {
     "data": {
      "image/png": "[encoded data removed]",
      "text/plain": [
       "<Figure size 1200x600 with 1 Axes>"
      ]
     },
     "metadata": {},
     "output_type": "display_data"
    }
   ],
   "source": [
    "import matplotlib.pyplot as plt\n",
    "import seaborn as sns\n",
    "\n",
    "plt.figure(figsize=(12, 6))  # Adjust figure size for better readability\n",
    "sns.histplot(data['year'], bins=20, color='green', alpha=0.5)  # Increase bins for better granularity\n",
    "plt.xlabel('Reviews by Year', fontsize=12)  # Add a clear x-axis label\n",
    "plt.ylabel('Frequency', fontsize=12)  # Add a clear y-axis label\n",
    "plt.title('Distribution of Reviews by Year', fontsize=14)  # Add a title\n",
    "\n",
    "# Rotate x-axis labels for better visibility\n",
    "plt.xticks(rotation=45)\n",
    "\n",
    "plt.tight_layout()  # Adjust layout to prevent label cutoff\n",
    "plt.show()"
   ]
  },
  {
   "cell_type": "markdown",
   "metadata": {},
   "source": [
    "# 3. Genre Distribution (Grouped)"
   ]
  },
  {
   "cell_type": "code",
   "execution_count": 25,
   "metadata": {
    "execution": {
     "iopub.execute_input": "2025-07-29T08:23:46.125655Z",
     "iopub.status.busy": "2025-07-29T08:23:46.124920Z",
     "iopub.status.idle": "2025-07-29T08:23:46.451264Z",
     "shell.execute_reply": "2025-07-29T08:23:46.450616Z",
     "shell.execute_reply.started": "2025-07-29T08:23:46.125629Z"
    }
   },
   "outputs": [
    {
     "data": {
      "image/png": "[encoded data removed]",
      "text/plain": [
       "<Figure size 800x600 with 1 Axes>"
      ]
     },
     "metadata": {},
     "output_type": "display_data"
    }
   ],
   "source": [
    "genre_counts = data['genre'].value_counts()\n",
    "threshold = 50\n",
    "data['genre'] = data['genre'].apply(lambda x: x if genre_counts[x] > threshold else 'Other')\n",
    "plt.figure(figsize=(8, 6))\n",
    "sns.countplot(data=data, y=\"genre\", order=data['genre'].value_counts().index, palette='Set3')\n",
    "plt.title('Genre Distribution (Grouped)')\n",
    "plt.xlabel('Count')\n",
    "plt.ylabel('Genre')\n",
    "plt.tight_layout()\n",
    "plt.show()"
   ]
  },
  {
   "cell_type": "markdown",
   "metadata": {},
   "source": [
    "# 4. Number of Tokens"
   ]
  },
  {
   "cell_type": "code",
   "execution_count": 26,
   "metadata": {
    "execution": {
     "iopub.execute_input": "2025-07-29T08:23:50.347704Z",
     "iopub.status.busy": "2025-07-29T08:23:50.347314Z",
     "iopub.status.idle": "2025-07-29T08:25:27.908846Z",
     "shell.execute_reply": "2025-07-29T08:25:27.908054Z",
     "shell.execute_reply.started": "2025-07-29T08:23:50.347683Z"
    }
   },
   "outputs": [
    {
     "name": "stderr",
     "output_type": "stream",
     "text": [
      "/usr/local/lib/python3.11/dist-packages/seaborn/_oldcore.py:1119: FutureWarning: use_inf_as_na option is deprecated and will be removed in a future version. Convert inf values to NaN before operating instead.\n",
      "  with pd.option_context('mode.use_inf_as_na', True):\n"
     ]
    },
    {
     "data": {
      "image/png": "[encoded data removed]",
      "text/plain": [
       "<Figure size 1000x600 with 1 Axes>"
      ]
     },
     "metadata": {},
     "output_type": "display_data"
    }
   ],
   "source": [
    "data['num_tokens'] = data['review'].apply(lambda text: len(TextBlob(text).words))\n",
    "plt.figure(figsize=(10, 6))\n",
    "sns.histplot(data['num_tokens'], kde=True, bins=50, color='darkviolet')\n",
    "plt.xlabel('Number of Tokens per Review')\n",
    "plt.ylabel('Frequency')\n",
    "plt.title('Distribution of Review Token Counts')\n",
    "plt.show()\n"
   ]
  },
  {
   "cell_type": "markdown",
   "metadata": {},
   "source": [
    "# 5. Sentiment Analysis"
   ]
  },
  {
   "cell_type": "code",
   "execution_count": 70,
   "metadata": {
    "execution": {
     "iopub.execute_input": "2025-07-29T11:17:49.777595Z",
     "iopub.status.busy": "2025-07-29T11:17:49.777046Z",
     "iopub.status.idle": "2025-07-29T11:20:03.251201Z",
     "shell.execute_reply": "2025-07-29T11:20:03.250409Z",
     "shell.execute_reply.started": "2025-07-29T11:17:49.777571Z"
    }
   },
   "outputs": [],
   "source": [
    "data['polarity'] = data['review'].apply(lambda text: TextBlob(text).sentiment.polarity)\n",
    "data['subjectivity'] = data['review'].apply(lambda text: TextBlob(text).sentiment.subjectivity)"
   ]
  },
  {
   "cell_type": "code",
   "execution_count": 71,
   "metadata": {
    "execution": {
     "iopub.execute_input": "2025-07-29T11:20:03.252626Z",
     "iopub.status.busy": "2025-07-29T11:20:03.252374Z",
     "iopub.status.idle": "2025-07-29T11:20:04.199180Z",
     "shell.execute_reply": "2025-07-29T11:20:04.198371Z",
     "shell.execute_reply.started": "2025-07-29T11:20:03.252610Z"
    }
   },
   "outputs": [
    {
     "name": "stderr",
     "output_type": "stream",
     "text": [
      "/usr/local/lib/python3.11/dist-packages/seaborn/_oldcore.py:1119: FutureWarning: use_inf_as_na option is deprecated and will be removed in a future version. Convert inf values to NaN before operating instead.\n",
      "  with pd.option_context('mode.use_inf_as_na', True):\n",
      "/usr/local/lib/python3.11/dist-packages/seaborn/_oldcore.py:1119: FutureWarning: use_inf_as_na option is deprecated and will be removed in a future version. Convert inf values to NaN before operating instead.\n",
      "  with pd.option_context('mode.use_inf_as_na', True):\n"
     ]
    },
    {
     "data": {
      "image/png": "[encoded data removed]",
      "text/plain": [
       "<Figure size 1500x500 with 2 Axes>"
      ]
     },
     "metadata": {},
     "output_type": "display_data"
    }
   ],
   "source": [
    "fig, axes = plt.subplots(1, 2, figsize=(15, 5))\n",
    "sns.histplot(data['polarity'], kde=True, bins=50, color='darkblue', ax=axes[0])\n",
    "axes[0].set_title('Distribution of Sentiment Polarity')\n",
    "sns.histplot(data['subjectivity'], kde=True, bins=50, color='darkred', ax=axes[1])\n",
    "axes[1].set_title('Distribution of Sentiment Subjectivity')\n",
    "plt.tight_layout()\n",
    "plt.show()"
   ]
  },
  {
   "cell_type": "code",
   "execution_count": 72,
   "metadata": {
    "execution": {
     "iopub.execute_input": "2025-07-29T11:20:04.200029Z",
     "iopub.status.busy": "2025-07-29T11:20:04.199772Z",
     "iopub.status.idle": "2025-07-29T11:20:04.204870Z",
     "shell.execute_reply": "2025-07-29T11:20:04.204012Z",
     "shell.execute_reply.started": "2025-07-29T11:20:04.200001Z"
    }
   },
   "outputs": [
    {
     "name": "stdout",
     "output_type": "stream",
     "text": [
      "Total entries after EDA filtering: 20508\n"
     ]
    }
   ],
   "source": [
    "print(f\"Total entries after EDA filtering: {len(data)}\")"
   ]
  },
  {
   "cell_type": "code",
   "execution_count": 37,
   "metadata": {
    "execution": {
     "iopub.execute_input": "2025-07-29T09:56:35.994875Z",
     "iopub.status.busy": "2025-07-29T09:56:35.994193Z",
     "iopub.status.idle": "2025-07-29T09:56:53.499524Z",
     "shell.execute_reply": "2025-07-29T09:56:53.498781Z",
     "shell.execute_reply.started": "2025-07-29T09:56:35.994852Z"
    }
   },
   "outputs": [
    {
     "name": "stderr",
     "output_type": "stream",
     "text": [
      "huggingface/tokenizers: The current process just got forked, after parallelism has already been used. Disabling parallelism to avoid deadlocks...\n",
      "To disable this warning, you can either:\n",
      "\t- Avoid using `tokenizers` before the fork if possible\n",
      "\t- Explicitly set the environment variable TOKENIZERS_PARALLELISM=(true | false)\n"
     ]
    },
    {
     "name": "stdout",
     "output_type": "stream",
     "text": [
      "Requirement already satisfied: langchain in /usr/local/lib/python3.11/dist-packages (0.3.26)\n",
      "Requirement already satisfied: langchain-core<1.0.0,>=0.3.66 in /usr/local/lib/python3.11/dist-packages (from langchain) (0.3.66)\n",
      "Requirement already satisfied: langchain-text-splitters<1.0.0,>=0.3.8 in /usr/local/lib/python3.11/dist-packages (from langchain) (0.3.8)\n",
      "Requirement already satisfied: langsmith>=0.1.17 in /usr/local/lib/python3.11/dist-packages (from langchain) (0.4.1)\n",
      "Requirement already satisfied: pydantic<3.0.0,>=2.7.4 in /usr/local/lib/python3.11/dist-packages (from langchain) (2.11.7)\n",
      "Requirement already satisfied: SQLAlchemy<3,>=1.4 in /usr/local/lib/python3.11/dist-packages (from langchain) (2.0.41)\n",
      "Requirement already satisfied: requests<3,>=2 in /usr/local/lib/python3.11/dist-packages (from langchain) (2.32.4)\n",
      "Requirement already satisfied: PyYAML>=5.3 in /usr/local/lib/python3.11/dist-packages (from langchain) (6.0.2)\n",
      "Requirement already satisfied: tenacity!=8.4.0,<10.0.0,>=8.1.0 in /usr/local/lib/python3.11/dist-packages (from langchain-core<1.0.0,>=0.3.66->langchain) (8.5.0)\n",
      "Requirement already satisfied: jsonpatch<2.0,>=1.33 in /usr/local/lib/python3.11/dist-packages (from langchain-core<1.0.0,>=0.3.66->langchain) (1.33)\n",
      "Requirement already satisfied: packaging<25,>=23.2 in /usr/local/lib/python3.11/dist-packages (from langchain-core<1.0.0,>=0.3.66->langchain) (24.2)\n",
      "Requirement already satisfied: typing-extensions>=4.7 in /usr/local/lib/python3.11/dist-packages (from langchain-core<1.0.0,>=0.3.66->langchain) (4.14.0)\n",
      "Requirement already satisfied: httpx<1,>=0.23.0 in /usr/local/lib/python3.11/dist-packages (from langsmith>=0.1.17->langchain) (0.28.1)\n",
      "Requirement already satisfied: orjson<4.0.0,>=3.9.14 in /usr/local/lib/python3.11/dist-packages (from langsmith>=0.1.17->langchain) (3.10.18)\n",
      "Requirement already satisfied: requests-toolbelt<2.0.0,>=1.0.0 in /usr/local/lib/python3.11/dist-packages (from langsmith>=0.1.17->langchain) (1.0.0)\n",
      "Requirement already satisfied: zstandard<0.24.0,>=0.23.0 in /usr/local/lib/python3.11/dist-packages (from langsmith>=0.1.17->langchain) (0.23.0)\n",
      "Requirement already satisfied: annotated-types>=0.6.0 in /usr/local/lib/python3.11/dist-packages (from pydantic<3.0.0,>=2.7.4->langchain) (0.7.0)\n",
      "Requirement already satisfied: pydantic-core==2.33.2 in /usr/local/lib/python3.11/dist-packages (from pydantic<3.0.0,>=2.7.4->langchain) (2.33.2)\n",
      "Requirement already satisfied: typing-inspection>=0.4.0 in /usr/local/lib/python3.11/dist-packages (from pydantic<3.0.0,>=2.7.4->langchain) (0.4.1)\n",
      "Requirement already satisfied: charset_normalizer<4,>=2 in /usr/local/lib/python3.11/dist-packages (from requests<3,>=2->langchain) (3.4.2)\n",
      "Requirement already satisfied: idna<4,>=2.5 in /usr/local/lib/python3.11/dist-packages (from requests<3,>=2->langchain) (3.10)\n",
      "Requirement already satisfied: urllib3<3,>=1.21.1 in /usr/local/lib/python3.11/dist-packages (from requests<3,>=2->langchain) (2.5.0)\n",
      "Requirement already satisfied: certifi>=2017.4.17 in /usr/local/lib/python3.11/dist-packages (from requests<3,>=2->langchain) (2025.6.15)\n",
      "Requirement already satisfied: greenlet>=1 in /usr/local/lib/python3.11/dist-packages (from SQLAlchemy<3,>=1.4->langchain) (3.2.3)\n",
      "Requirement already satisfied: anyio in /usr/local/lib/python3.11/dist-packages (from httpx<1,>=0.23.0->langsmith>=0.1.17->langchain) (4.9.0)\n",
      "Requirement already satisfied: httpcore==1.* in /usr/local/lib/python3.11/dist-packages (from httpx<1,>=0.23.0->langsmith>=0.1.17->langchain) (1.0.9)\n",
      "Requirement already satisfied: h11>=0.16 in /usr/local/lib/python3.11/dist-packages (from httpcore==1.*->httpx<1,>=0.23.0->langsmith>=0.1.17->langchain) (0.16.0)\n",
      "Requirement already satisfied: jsonpointer>=1.9 in /usr/local/lib/python3.11/dist-packages (from jsonpatch<2.0,>=1.33->langchain-core<1.0.0,>=0.3.66->langchain) (3.0.0)\n",
      "Requirement already satisfied: sniffio>=1.1 in /usr/local/lib/python3.11/dist-packages (from anyio->httpx<1,>=0.23.0->langsmith>=0.1.17->langchain) (1.3.1)\n"
     ]
    },
    {
     "name": "stderr",
     "output_type": "stream",
     "text": [
      "huggingface/tokenizers: The current process just got forked, after parallelism has already been used. Disabling parallelism to avoid deadlocks...\n",
      "To disable this warning, you can either:\n",
      "\t- Avoid using `tokenizers` before the fork if possible\n",
      "\t- Explicitly set the environment variable TOKENIZERS_PARALLELISM=(true | false)\n"
     ]
    },
    {
     "name": "stdout",
     "output_type": "stream",
     "text": [
      "Requirement already satisfied: langchain-community in /usr/local/lib/python3.11/dist-packages (0.3.27)\n",
      "Requirement already satisfied: langchain-core<1.0.0,>=0.3.66 in /usr/local/lib/python3.11/dist-packages (from langchain-community) (0.3.66)\n",
      "Requirement already satisfied: langchain<1.0.0,>=0.3.26 in /usr/local/lib/python3.11/dist-packages (from langchain-community) (0.3.26)\n",
      "Requirement already satisfied: SQLAlchemy<3,>=1.4 in /usr/local/lib/python3.11/dist-packages (from langchain-community) (2.0.41)\n",
      "Requirement already satisfied: requests<3,>=2 in /usr/local/lib/python3.11/dist-packages (from langchain-community) (2.32.4)\n",
      "Requirement already satisfied: PyYAML>=5.3 in /usr/local/lib/python3.11/dist-packages (from langchain-community) (6.0.2)\n",
      "Requirement already satisfied: aiohttp<4.0.0,>=3.8.3 in /usr/local/lib/python3.11/dist-packages (from langchain-community) (3.12.13)\n",
      "Requirement already satisfied: tenacity!=8.4.0,<10,>=8.1.0 in /usr/local/lib/python3.11/dist-packages (from langchain-community) (8.5.0)\n",
      "Requirement already satisfied: dataclasses-json<0.7,>=0.5.7 in /usr/local/lib/python3.11/dist-packages (from langchain-community) (0.6.7)\n",
      "Requirement already satisfied: pydantic-settings<3.0.0,>=2.4.0 in /usr/local/lib/python3.11/dist-packages (from langchain-community) (2.10.1)\n",
      "Requirement already satisfied: langsmith>=0.1.125 in /usr/local/lib/python3.11/dist-packages (from langchain-community) (0.4.1)\n",
      "Requirement already satisfied: httpx-sse<1.0.0,>=0.4.0 in /usr/local/lib/python3.11/dist-packages (from langchain-community) (0.4.1)\n",
      "Requirement already satisfied: numpy>=1.26.2 in /usr/local/lib/python3.11/dist-packages (from langchain-community) (1.26.4)\n",
      "Requirement already satisfied: aiohappyeyeballs>=2.5.0 in /usr/local/lib/python3.11/dist-packages (from aiohttp<4.0.0,>=3.8.3->langchain-community) (2.6.1)\n",
      "Requirement already satisfied: aiosignal>=1.1.2 in /usr/local/lib/python3.11/dist-packages (from aiohttp<4.0.0,>=3.8.3->langchain-community) (1.3.2)\n",
      "Requirement already satisfied: attrs>=17.3.0 in /usr/local/lib/python3.11/dist-packages (from aiohttp<4.0.0,>=3.8.3->langchain-community) (25.3.0)\n",
      "Requirement already satisfied: frozenlist>=1.1.1 in /usr/local/lib/python3.11/dist-packages (from aiohttp<4.0.0,>=3.8.3->langchain-community) (1.7.0)\n",
      "Requirement already satisfied: multidict<7.0,>=4.5 in /usr/local/lib/python3.11/dist-packages (from aiohttp<4.0.0,>=3.8.3->langchain-community) (6.6.3)\n",
      "Requirement already satisfied: propcache>=0.2.0 in /usr/local/lib/python3.11/dist-packages (from aiohttp<4.0.0,>=3.8.3->langchain-community) (0.3.2)\n",
      "Requirement already satisfied: yarl<2.0,>=1.17.0 in /usr/local/lib/python3.11/dist-packages (from aiohttp<4.0.0,>=3.8.3->langchain-community) (1.20.1)\n",
      "Requirement already satisfied: marshmallow<4.0.0,>=3.18.0 in /usr/local/lib/python3.11/dist-packages (from dataclasses-json<0.7,>=0.5.7->langchain-community) (3.26.1)\n",
      "Requirement already satisfied: typing-inspect<1,>=0.4.0 in /usr/local/lib/python3.11/dist-packages (from dataclasses-json<0.7,>=0.5.7->langchain-community) (0.9.0)\n",
      "Requirement already satisfied: langchain-text-splitters<1.0.0,>=0.3.8 in /usr/local/lib/python3.11/dist-packages (from langchain<1.0.0,>=0.3.26->langchain-community) (0.3.8)\n",
      "Requirement already satisfied: pydantic<3.0.0,>=2.7.4 in /usr/local/lib/python3.11/dist-packages (from langchain<1.0.0,>=0.3.26->langchain-community) (2.11.7)\n",
      "Requirement already satisfied: jsonpatch<2.0,>=1.33 in /usr/local/lib/python3.11/dist-packages (from langchain-core<1.0.0,>=0.3.66->langchain-community) (1.33)\n",
      "Requirement already satisfied: packaging<25,>=23.2 in /usr/local/lib/python3.11/dist-packages (from langchain-core<1.0.0,>=0.3.66->langchain-community) (24.2)\n",
      "Requirement already satisfied: typing-extensions>=4.7 in /usr/local/lib/python3.11/dist-packages (from langchain-core<1.0.0,>=0.3.66->langchain-community) (4.14.0)\n",
      "Requirement already satisfied: httpx<1,>=0.23.0 in /usr/local/lib/python3.11/dist-packages (from langsmith>=0.1.125->langchain-community) (0.28.1)\n",
      "Requirement already satisfied: orjson<4.0.0,>=3.9.14 in /usr/local/lib/python3.11/dist-packages (from langsmith>=0.1.125->langchain-community) (3.10.18)\n",
      "Requirement already satisfied: requests-toolbelt<2.0.0,>=1.0.0 in /usr/local/lib/python3.11/dist-packages (from langsmith>=0.1.125->langchain-community) (1.0.0)\n",
      "Requirement already satisfied: zstandard<0.24.0,>=0.23.0 in /usr/local/lib/python3.11/dist-packages (from langsmith>=0.1.125->langchain-community) (0.23.0)\n",
      "Requirement already satisfied: mkl_fft in /usr/local/lib/python3.11/dist-packages (from numpy>=1.26.2->langchain-community) (1.3.8)\n",
      "Requirement already satisfied: mkl_random in /usr/local/lib/python3.11/dist-packages (from numpy>=1.26.2->langchain-community) (1.2.4)\n",
      "Requirement already satisfied: mkl_umath in /usr/local/lib/python3.11/dist-packages (from numpy>=1.26.2->langchain-community) (0.1.1)\n",
      "Requirement already satisfied: mkl in /usr/local/lib/python3.11/dist-packages (from numpy>=1.26.2->langchain-community) (2025.2.0)\n",
      "Requirement already satisfied: tbb4py in /usr/local/lib/python3.11/dist-packages (from numpy>=1.26.2->langchain-community) (2022.2.0)\n",
      "Requirement already satisfied: mkl-service in /usr/local/lib/python3.11/dist-packages (from numpy>=1.26.2->langchain-community) (2.4.1)\n",
      "Requirement already satisfied: python-dotenv>=0.21.0 in /usr/local/lib/python3.11/dist-packages (from pydantic-settings<3.0.0,>=2.4.0->langchain-community) (1.1.1)\n",
      "Requirement already satisfied: typing-inspection>=0.4.0 in /usr/local/lib/python3.11/dist-packages (from pydantic-settings<3.0.0,>=2.4.0->langchain-community) (0.4.1)\n",
      "Requirement already satisfied: charset_normalizer<4,>=2 in /usr/local/lib/python3.11/dist-packages (from requests<3,>=2->langchain-community) (3.4.2)\n",
      "Requirement already satisfied: idna<4,>=2.5 in /usr/local/lib/python3.11/dist-packages (from requests<3,>=2->langchain-community) (3.10)\n",
      "Requirement already satisfied: urllib3<3,>=1.21.1 in /usr/local/lib/python3.11/dist-packages (from requests<3,>=2->langchain-community) (2.5.0)\n",
      "Requirement already satisfied: certifi>=2017.4.17 in /usr/local/lib/python3.11/dist-packages (from requests<3,>=2->langchain-community) (2025.6.15)\n",
      "Requirement already satisfied: greenlet>=1 in /usr/local/lib/python3.11/dist-packages (from SQLAlchemy<3,>=1.4->langchain-community) (3.2.3)\n",
      "Requirement already satisfied: anyio in /usr/local/lib/python3.11/dist-packages (from httpx<1,>=0.23.0->langsmith>=0.1.125->langchain-community) (4.9.0)\n",
      "Requirement already satisfied: httpcore==1.* in /usr/local/lib/python3.11/dist-packages (from httpx<1,>=0.23.0->langsmith>=0.1.125->langchain-community) (1.0.9)\n",
      "Requirement already satisfied: h11>=0.16 in /usr/local/lib/python3.11/dist-packages (from httpcore==1.*->httpx<1,>=0.23.0->langsmith>=0.1.125->langchain-community) (0.16.0)\n",
      "Requirement already satisfied: jsonpointer>=1.9 in /usr/local/lib/python3.11/dist-packages (from jsonpatch<2.0,>=1.33->langchain-core<1.0.0,>=0.3.66->langchain-community) (3.0.0)\n",
      "Requirement already satisfied: annotated-types>=0.6.0 in /usr/local/lib/python3.11/dist-packages (from pydantic<3.0.0,>=2.7.4->langchain<1.0.0,>=0.3.26->langchain-community) (0.7.0)\n",
      "Requirement already satisfied: pydantic-core==2.33.2 in /usr/local/lib/python3.11/dist-packages (from pydantic<3.0.0,>=2.7.4->langchain<1.0.0,>=0.3.26->langchain-community) (2.33.2)\n",
      "Requirement already satisfied: mypy-extensions>=0.3.0 in /usr/local/lib/python3.11/dist-packages (from typing-inspect<1,>=0.4.0->dataclasses-json<0.7,>=0.5.7->langchain-community) (1.1.0)\n",
      "Requirement already satisfied: intel-openmp<2026,>=2024 in /usr/local/lib/python3.11/dist-packages (from mkl->numpy>=1.26.2->langchain-community) (2024.2.0)\n",
      "Requirement already satisfied: tbb==2022.* in /usr/local/lib/python3.11/dist-packages (from mkl->numpy>=1.26.2->langchain-community) (2022.2.0)\n",
      "Requirement already satisfied: tcmlib==1.* in /usr/local/lib/python3.11/dist-packages (from tbb==2022.*->mkl->numpy>=1.26.2->langchain-community) (1.4.0)\n",
      "Requirement already satisfied: intel-cmplr-lib-rt in /usr/local/lib/python3.11/dist-packages (from mkl_umath->numpy>=1.26.2->langchain-community) (2024.2.0)\n",
      "Requirement already satisfied: intel-cmplr-lib-ur==2024.2.0 in /usr/local/lib/python3.11/dist-packages (from intel-openmp<2026,>=2024->mkl->numpy>=1.26.2->langchain-community) (2024.2.0)\n",
      "Requirement already satisfied: sniffio>=1.1 in /usr/local/lib/python3.11/dist-packages (from anyio->httpx<1,>=0.23.0->langsmith>=0.1.125->langchain-community) (1.3.1)\n"
     ]
    },
    {
     "name": "stderr",
     "output_type": "stream",
     "text": [
      "huggingface/tokenizers: The current process just got forked, after parallelism has already been used. Disabling parallelism to avoid deadlocks...\n",
      "To disable this warning, you can either:\n",
      "\t- Avoid using `tokenizers` before the fork if possible\n",
      "\t- Explicitly set the environment variable TOKENIZERS_PARALLELISM=(true | false)\n",
      "huggingface/tokenizers: The current process just got forked, after parallelism has already been used. Disabling parallelism to avoid deadlocks...\n",
      "To disable this warning, you can either:\n",
      "\t- Avoid using `tokenizers` before the fork if possible\n",
      "\t- Explicitly set the environment variable TOKENIZERS_PARALLELISM=(true | false)\n"
     ]
    },
    {
     "name": "stdout",
     "output_type": "stream",
     "text": [
      "Requirement already satisfied: tf-keras in /usr/local/lib/python3.11/dist-packages (2.18.0)\n",
      "Requirement already satisfied: tensorflow<2.19,>=2.18 in /usr/local/lib/python3.11/dist-packages (from tf-keras) (2.18.0)\n",
      "Requirement already satisfied: absl-py>=1.0.0 in /usr/local/lib/python3.11/dist-packages (from tensorflow<2.19,>=2.18->tf-keras) (1.4.0)\n",
      "Requirement already satisfied: astunparse>=1.6.0 in /usr/local/lib/python3.11/dist-packages (from tensorflow<2.19,>=2.18->tf-keras) (1.6.3)\n",
      "Requirement already satisfied: flatbuffers>=24.3.25 in /usr/local/lib/python3.11/dist-packages (from tensorflow<2.19,>=2.18->tf-keras) (25.2.10)\n",
      "Requirement already satisfied: gast!=0.5.0,!=0.5.1,!=0.5.2,>=0.2.1 in /usr/local/lib/python3.11/dist-packages (from tensorflow<2.19,>=2.18->tf-keras) (0.6.0)\n",
      "Requirement already satisfied: google-pasta>=0.1.1 in /usr/local/lib/python3.11/dist-packages (from tensorflow<2.19,>=2.18->tf-keras) (0.2.0)\n",
      "Requirement already satisfied: libclang>=13.0.0 in /usr/local/lib/python3.11/dist-packages (from tensorflow<2.19,>=2.18->tf-keras) (18.1.1)\n",
      "Requirement already satisfied: opt-einsum>=2.3.2 in /usr/local/lib/python3.11/dist-packages (from tensorflow<2.19,>=2.18->tf-keras) (3.4.0)\n",
      "Requirement already satisfied: packaging in /usr/local/lib/python3.11/dist-packages (from tensorflow<2.19,>=2.18->tf-keras) (24.2)\n",
      "Requirement already satisfied: protobuf!=4.21.0,!=4.21.1,!=4.21.2,!=4.21.3,!=4.21.4,!=4.21.5,<6.0.0dev,>=3.20.3 in /usr/local/lib/python3.11/dist-packages (from tensorflow<2.19,>=2.18->tf-keras) (3.20.3)\n",
      "Requirement already satisfied: requests<3,>=2.21.0 in /usr/local/lib/python3.11/dist-packages (from tensorflow<2.19,>=2.18->tf-keras) (2.32.4)\n",
      "Requirement already satisfied: setuptools in /usr/local/lib/python3.11/dist-packages (from tensorflow<2.19,>=2.18->tf-keras) (75.2.0)\n",
      "Requirement already satisfied: six>=1.12.0 in /usr/local/lib/python3.11/dist-packages (from tensorflow<2.19,>=2.18->tf-keras) (1.17.0)\n",
      "Requirement already satisfied: termcolor>=1.1.0 in /usr/local/lib/python3.11/dist-packages (from tensorflow<2.19,>=2.18->tf-keras) (3.1.0)\n",
      "Requirement already satisfied: typing-extensions>=3.6.6 in /usr/local/lib/python3.11/dist-packages (from tensorflow<2.19,>=2.18->tf-keras) (4.14.0)\n",
      "Requirement already satisfied: wrapt>=1.11.0 in /usr/local/lib/python3.11/dist-packages (from tensorflow<2.19,>=2.18->tf-keras) (1.17.2)\n",
      "Requirement already satisfied: grpcio<2.0,>=1.24.3 in /usr/local/lib/python3.11/dist-packages (from tensorflow<2.19,>=2.18->tf-keras) (1.73.1)\n",
      "Requirement already satisfied: tensorboard<2.19,>=2.18 in /usr/local/lib/python3.11/dist-packages (from tensorflow<2.19,>=2.18->tf-keras) (2.18.0)\n",
      "Requirement already satisfied: keras>=3.5.0 in /usr/local/lib/python3.11/dist-packages (from tensorflow<2.19,>=2.18->tf-keras) (3.8.0)\n",
      "Requirement already satisfied: numpy<2.1.0,>=1.26.0 in /usr/local/lib/python3.11/dist-packages (from tensorflow<2.19,>=2.18->tf-keras) (1.26.4)\n",
      "Requirement already satisfied: h5py>=3.11.0 in /usr/local/lib/python3.11/dist-packages (from tensorflow<2.19,>=2.18->tf-keras) (3.14.0)\n",
      "Requirement already satisfied: ml-dtypes<0.5.0,>=0.4.0 in /usr/local/lib/python3.11/dist-packages (from tensorflow<2.19,>=2.18->tf-keras) (0.4.1)\n",
      "Requirement already satisfied: tensorflow-io-gcs-filesystem>=0.23.1 in /usr/local/lib/python3.11/dist-packages (from tensorflow<2.19,>=2.18->tf-keras) (0.37.1)\n",
      "Requirement already satisfied: wheel<1.0,>=0.23.0 in /usr/local/lib/python3.11/dist-packages (from astunparse>=1.6.0->tensorflow<2.19,>=2.18->tf-keras) (0.45.1)\n",
      "Requirement already satisfied: rich in /usr/local/lib/python3.11/dist-packages (from keras>=3.5.0->tensorflow<2.19,>=2.18->tf-keras) (14.0.0)\n",
      "Requirement already satisfied: namex in /usr/local/lib/python3.11/dist-packages (from keras>=3.5.0->tensorflow<2.19,>=2.18->tf-keras) (0.1.0)\n",
      "Requirement already satisfied: optree in /usr/local/lib/python3.11/dist-packages (from keras>=3.5.0->tensorflow<2.19,>=2.18->tf-keras) (0.16.0)\n",
      "Requirement already satisfied: mkl_fft in /usr/local/lib/python3.11/dist-packages (from numpy<2.1.0,>=1.26.0->tensorflow<2.19,>=2.18->tf-keras) (1.3.8)\n",
      "Requirement already satisfied: mkl_random in /usr/local/lib/python3.11/dist-packages (from numpy<2.1.0,>=1.26.0->tensorflow<2.19,>=2.18->tf-keras) (1.2.4)\n",
      "Requirement already satisfied: mkl_umath in /usr/local/lib/python3.11/dist-packages (from numpy<2.1.0,>=1.26.0->tensorflow<2.19,>=2.18->tf-keras) (0.1.1)\n",
      "Requirement already satisfied: mkl in /usr/local/lib/python3.11/dist-packages (from numpy<2.1.0,>=1.26.0->tensorflow<2.19,>=2.18->tf-keras) (2025.2.0)\n",
      "Requirement already satisfied: tbb4py in /usr/local/lib/python3.11/dist-packages (from numpy<2.1.0,>=1.26.0->tensorflow<2.19,>=2.18->tf-keras) (2022.2.0)\n",
      "Requirement already satisfied: mkl-service in /usr/local/lib/python3.11/dist-packages (from numpy<2.1.0,>=1.26.0->tensorflow<2.19,>=2.18->tf-keras) (2.4.1)\n",
      "Requirement already satisfied: charset_normalizer<4,>=2 in /usr/local/lib/python3.11/dist-packages (from requests<3,>=2.21.0->tensorflow<2.19,>=2.18->tf-keras) (3.4.2)\n",
      "Requirement already satisfied: idna<4,>=2.5 in /usr/local/lib/python3.11/dist-packages (from requests<3,>=2.21.0->tensorflow<2.19,>=2.18->tf-keras) (3.10)\n",
      "Requirement already satisfied: urllib3<3,>=1.21.1 in /usr/local/lib/python3.11/dist-packages (from requests<3,>=2.21.0->tensorflow<2.19,>=2.18->tf-keras) (2.5.0)\n",
      "Requirement already satisfied: certifi>=2017.4.17 in /usr/local/lib/python3.11/dist-packages (from requests<3,>=2.21.0->tensorflow<2.19,>=2.18->tf-keras) (2025.6.15)\n",
      "Requirement already satisfied: markdown>=2.6.8 in /usr/local/lib/python3.11/dist-packages (from tensorboard<2.19,>=2.18->tensorflow<2.19,>=2.18->tf-keras) (3.8.2)\n",
      "Requirement already satisfied: tensorboard-data-server<0.8.0,>=0.7.0 in /usr/local/lib/python3.11/dist-packages (from tensorboard<2.19,>=2.18->tensorflow<2.19,>=2.18->tf-keras) (0.7.2)\n",
      "Requirement already satisfied: werkzeug>=1.0.1 in /usr/local/lib/python3.11/dist-packages (from tensorboard<2.19,>=2.18->tensorflow<2.19,>=2.18->tf-keras) (3.1.3)\n",
      "Requirement already satisfied: MarkupSafe>=2.1.1 in /usr/local/lib/python3.11/dist-packages (from werkzeug>=1.0.1->tensorboard<2.19,>=2.18->tensorflow<2.19,>=2.18->tf-keras) (3.0.2)\n",
      "Requirement already satisfied: intel-openmp<2026,>=2024 in /usr/local/lib/python3.11/dist-packages (from mkl->numpy<2.1.0,>=1.26.0->tensorflow<2.19,>=2.18->tf-keras) (2024.2.0)\n",
      "Requirement already satisfied: tbb==2022.* in /usr/local/lib/python3.11/dist-packages (from mkl->numpy<2.1.0,>=1.26.0->tensorflow<2.19,>=2.18->tf-keras) (2022.2.0)\n",
      "Requirement already satisfied: tcmlib==1.* in /usr/local/lib/python3.11/dist-packages (from tbb==2022.*->mkl->numpy<2.1.0,>=1.26.0->tensorflow<2.19,>=2.18->tf-keras) (1.4.0)\n",
      "Requirement already satisfied: intel-cmplr-lib-rt in /usr/local/lib/python3.11/dist-packages (from mkl_umath->numpy<2.1.0,>=1.26.0->tensorflow<2.19,>=2.18->tf-keras) (2024.2.0)\n",
      "Requirement already satisfied: markdown-it-py>=2.2.0 in /usr/local/lib/python3.11/dist-packages (from rich->keras>=3.5.0->tensorflow<2.19,>=2.18->tf-keras) (3.0.0)\n",
      "Requirement already satisfied: pygments<3.0.0,>=2.13.0 in /usr/local/lib/python3.11/dist-packages (from rich->keras>=3.5.0->tensorflow<2.19,>=2.18->tf-keras) (2.19.2)\n",
      "Requirement already satisfied: intel-cmplr-lib-ur==2024.2.0 in /usr/local/lib/python3.11/dist-packages (from intel-openmp<2026,>=2024->mkl->numpy<2.1.0,>=1.26.0->tensorflow<2.19,>=2.18->tf-keras) (2024.2.0)\n",
      "Requirement already satisfied: mdurl~=0.1 in /usr/local/lib/python3.11/dist-packages (from markdown-it-py>=2.2.0->rich->keras>=3.5.0->tensorflow<2.19,>=2.18->tf-keras) (0.1.2)\n"
     ]
    },
    {
     "name": "stderr",
     "output_type": "stream",
     "text": [
      "huggingface/tokenizers: The current process just got forked, after parallelism has already been used. Disabling parallelism to avoid deadlocks...\n",
      "To disable this warning, you can either:\n",
      "\t- Avoid using `tokenizers` before the fork if possible\n",
      "\t- Explicitly set the environment variable TOKENIZERS_PARALLELISM=(true | false)\n"
     ]
    },
    {
     "name": "stdout",
     "output_type": "stream",
     "text": [
      "Collecting rank_bm25\n",
      "  Downloading rank_bm25-0.2.2-py3-none-any.whl.metadata (3.2 kB)\n",
      "Requirement already satisfied: numpy in /usr/local/lib/python3.11/dist-packages (from rank_bm25) (1.26.4)\n",
      "Requirement already satisfied: mkl_fft in /usr/local/lib/python3.11/dist-packages (from numpy->rank_bm25) (1.3.8)\n",
      "Requirement already satisfied: mkl_random in /usr/local/lib/python3.11/dist-packages (from numpy->rank_bm25) (1.2.4)\n",
      "Requirement already satisfied: mkl_umath in /usr/local/lib/python3.11/dist-packages (from numpy->rank_bm25) (0.1.1)\n",
      "Requirement already satisfied: mkl in /usr/local/lib/python3.11/dist-packages (from numpy->rank_bm25) (2025.2.0)\n",
      "Requirement already satisfied: tbb4py in /usr/local/lib/python3.11/dist-packages (from numpy->rank_bm25) (2022.2.0)\n",
      "Requirement already satisfied: mkl-service in /usr/local/lib/python3.11/dist-packages (from numpy->rank_bm25) (2.4.1)\n",
      "Requirement already satisfied: intel-openmp<2026,>=2024 in /usr/local/lib/python3.11/dist-packages (from mkl->numpy->rank_bm25) (2024.2.0)\n",
      "Requirement already satisfied: tbb==2022.* in /usr/local/lib/python3.11/dist-packages (from mkl->numpy->rank_bm25) (2022.2.0)\n",
      "Requirement already satisfied: tcmlib==1.* in /usr/local/lib/python3.11/dist-packages (from tbb==2022.*->mkl->numpy->rank_bm25) (1.4.0)\n",
      "Requirement already satisfied: intel-cmplr-lib-rt in /usr/local/lib/python3.11/dist-packages (from mkl_umath->numpy->rank_bm25) (2024.2.0)\n",
      "Requirement already satisfied: intel-cmplr-lib-ur==2024.2.0 in /usr/local/lib/python3.11/dist-packages (from intel-openmp<2026,>=2024->mkl->numpy->rank_bm25) (2024.2.0)\n",
      "Downloading rank_bm25-0.2.2-py3-none-any.whl (8.6 kB)\n",
      "Installing collected packages: rank_bm25\n",
      "Successfully installed rank_bm25-0.2.2\n"
     ]
    }
   ],
   "source": [
    "!pip install langchain\n",
    "!pip install  -U langchain-community\n",
    "!pip install -q -U faiss-cpu tiktoken sentence-transformers\n",
    "!pip install tf-keras\n",
    "!pip install rank_bm25"
   ]
  },
  {
   "cell_type": "code",
   "execution_count": 38,
   "metadata": {
    "execution": {
     "iopub.execute_input": "2025-07-29T09:57:14.684987Z",
     "iopub.status.busy": "2025-07-29T09:57:14.684149Z",
     "iopub.status.idle": "2025-07-29T09:57:14.692187Z",
     "shell.execute_reply": "2025-07-29T09:57:14.691411Z",
     "shell.execute_reply.started": "2025-07-29T09:57:14.684954Z"
    }
   },
   "outputs": [],
   "source": [
    "import pandas as pd\n",
    "import numpy as np\n",
    "import torch\n",
    "import transformers\n",
    "from langchain_community.embeddings import HuggingFaceEmbeddings\n",
    "from langchain_community.vectorstores import FAISS\n",
    "from langchain.retrievers import BM25Retriever, EnsembleRetriever # BM25Retriever is in langchain.retrievers\n",
    "from langchain.chains import ConversationalRetrievalChain\n",
    "from langchain.prompts import PromptTemplate\n",
    "from sentence_transformers import CrossEncoder\n",
    "from transformers import AutoTokenizer, AutoModelForCausalLM, pipeline, BitsAndBytesConfig\n",
    "from langchain_text_splitters import RecursiveCharacterTextSplitter # Correct import\n",
    "from langchain_core.documents import Document\n",
    "from langchain.llms import HuggingFacePipeline # For LLM wrapper\n",
    "from langchain.memory import ConversationBufferMemory\n",
    "from langchain_core.output_parsers import StrOutputParser\n",
    "from langchain.embeddings import CacheBackedEmbeddings\n",
    "from langchain.embeddings import CacheBackedEmbeddings, HuggingFaceEmbeddings\n",
    "from langchain.vectorstores import FAISS\n",
    "from langchain.storage import LocalFileStore\n",
    "from langchain.chains import ConversationalRetrievalChain\n",
    "from langchain.llms import HuggingFacePipeline\n",
    "from langchain.document_loaders.csv_loader import CSVLoader\n",
    "from langchain.text_splitter import RecursiveCharacterTextSplitter\n",
    "from langchain import PromptTemplate"
   ]
  },
  {
   "cell_type": "code",
   "execution_count": 35,
   "metadata": {
    "execution": {
     "iopub.execute_input": "2025-07-29T09:26:13.425750Z",
     "iopub.status.busy": "2025-07-29T09:26:13.425177Z",
     "iopub.status.idle": "2025-07-29T09:26:26.760253Z",
     "shell.execute_reply": "2025-07-29T09:26:26.759487Z",
     "shell.execute_reply.started": "2025-07-29T09:26:13.425723Z"
    }
   },
   "outputs": [
    {
     "name": "stdout",
     "output_type": "stream",
     "text": [
      "Creating optimized documents...\n",
      "Created 20508 optimized LangChain Documents.\n",
      "Applying smart music chunking...\n",
      "Split into 172983 smart chunks.\n"
     ]
    }
   ],
   "source": [
    "# --- Required Imports ---\n",
    "import pandas as pd\n",
    "from langchain.text_splitter import RecursiveCharacterTextSplitter\n",
    "from langchain.docstore.document import Document\n",
    "\n",
    "# --- Load Cleaned Data for RAG ---\n",
    "df = pd.read_csv(\"reviews.csv\")\n",
    "\n",
    "def create_music_documents_optimized(df):\n",
    "    \"\"\"\n",
    "    Create optimized LangChain documents for music recommendation RAG\n",
    "    \"\"\"\n",
    "    documents = []\n",
    "    \n",
    "    for _, row in df.iterrows():\n",
    "        # Create rich content with structured information\n",
    "        content_parts = []\n",
    "        \n",
    "        # Add structured metadata at the beginning for better context\n",
    "        header = f\"Artist: {row['artist']} | Album: {row['album']} | Genre: {row['genre']}\"\n",
    "        if pd.notna(row['year']) and row['year'] != 0:\n",
    "            header += f\" | Year: {int(row['year'])}\"\n",
    "        if pd.notna(row['score']):\n",
    "            header += f\" | Score: {row['score']}/10\"\n",
    "        if pd.notna(row['best_new']) and row['best_new']:\n",
    "            header += \" | Best New Music\"\n",
    "            \n",
    "        content_parts.append(header)\n",
    "        content_parts.append(\"---\")\n",
    "        content_parts.append(f\"Review: {row['review']}\")\n",
    "        \n",
    "        content_text = \"\\n\".join(content_parts)\n",
    "        \n",
    "        # Enhanced metadata for better filtering and retrieval\n",
    "        metadata = {\n",
    "            \"artist\": str(row['artist']).strip(),\n",
    "            \"album\": str(row['album']).strip(),\n",
    "            \"score\": float(row['score']) if pd.notna(row['score']) else 0.0,\n",
    "            \"year\": int(row['year']) if pd.notna(row['year']) else 0,\n",
    "            \"genre\": str(row['genre']).strip(),\n",
    "            \"best_new\": bool(row['best_new']) if pd.notna(row['best_new']) else False,\n",
    "            # Additional computed metadata for better retrieval\n",
    "            \"score_category\": get_score_category(row['score']),\n",
    "            \"decade\": get_decade(row['year']) if pd.notna(row['year']) else \"unknown\",\n",
    "            \"content_length\": len(str(row['review'])),\n",
    "            \"artist_album\": f\"{row['artist']} - {row['album']}\".strip()\n",
    "        }\n",
    "        \n",
    "        documents.append(Document(page_content=content_text, metadata=metadata))\n",
    "    \n",
    "    return documents\n",
    "\n",
    "def get_score_category(score):\n",
    "    \"\"\"Categorize scores for better filtering\"\"\"\n",
    "    if pd.isna(score):\n",
    "        return \"unrated\"\n",
    "    elif score >= 8.5:\n",
    "        return \"excellent\"\n",
    "    elif score >= 7.0:\n",
    "        return \"good\"\n",
    "    elif score >= 5.5:\n",
    "        return \"average\"\n",
    "    else:\n",
    "        return \"poor\"\n",
    "\n",
    "def get_decade(year):\n",
    "    \"\"\"Get decade for temporal grouping\"\"\"\n",
    "    if pd.isna(year) or year == 0:\n",
    "        return \"unknown\"\n",
    "    return f\"{int(year // 10) * 10}s\"\n",
    "\n",
    "def smart_music_chunking(documents, chunk_size=800, chunk_overlap=100):\n",
    "    \"\"\"\n",
    "    Intelligent chunking for music reviews with context preservation\n",
    "    \"\"\"\n",
    "    from langchain.text_splitter import RecursiveCharacterTextSplitter\n",
    "    \n",
    "    # Music-specific separators that preserve context\n",
    "    music_separators = [\n",
    "        \"\\n---\\n\",      # Our custom separator\n",
    "        \"\\n\\n\",         # Paragraph breaks\n",
    "        \"\\nTrack\",      # Track mentions\n",
    "        \"\\nSong\",       # Song mentions  \n",
    "        \"\\nThe album\",  # Album discussions\n",
    "        \"\\nMusically\", # Musical analysis\n",
    "        \"\\nLyrically\", # Lyrical analysis\n",
    "        \"\\n\",          # Line breaks\n",
    "        \". \",          # Sentence endings\n",
    "        \", \",          # Phrases\n",
    "        \" \"            # Words\n",
    "    ]\n",
    "    \n",
    "    splitter = RecursiveCharacterTextSplitter(\n",
    "        separators=music_separators,\n",
    "        chunk_size=chunk_size,\n",
    "        chunk_overlap=chunk_overlap,\n",
    "        length_function=len,\n",
    "        is_separator_regex=False\n",
    "    )\n",
    "    \n",
    "    chunked_docs = []\n",
    "    \n",
    "    for doc in documents:\n",
    "        # Split the document\n",
    "        chunks = splitter.create_documents([doc.page_content])\n",
    "        \n",
    "        for i, chunk in enumerate(chunks):\n",
    "            # Preserve original metadata and add chunk-specific info\n",
    "            enhanced_metadata = {\n",
    "                **doc.metadata,\n",
    "                \"chunk_id\": i + 1,\n",
    "                \"total_chunks\": len(chunks),\n",
    "                \"chunk_type\": \"review_segment\"\n",
    "            }\n",
    "            \n",
    "            # Ensure each chunk retains key context\n",
    "            chunk_content = chunk.page_content\n",
    "            \n",
    "            # If chunk doesn't contain the header info, add essential context\n",
    "            if not chunk_content.startswith(\"Artist:\"):\n",
    "                context = f\"[{doc.metadata['artist']} - {doc.metadata['album']}]\\n\"\n",
    "                chunk_content = context + chunk_content\n",
    "                enhanced_metadata[\"context_added\"] = True\n",
    "            \n",
    "            chunked_docs.append(Document(\n",
    "                page_content=chunk_content,\n",
    "                metadata=enhanced_metadata\n",
    "            ))\n",
    "    \n",
    "    return chunked_docs\n",
    "\n",
    "def create_multi_level_chunks(documents):\n",
    "    \"\"\"\n",
    "    Create chunks at multiple granularities for comprehensive retrieval\n",
    "    \"\"\"\n",
    "    all_chunks = []\n",
    "    \n",
    "    # Level 1: Album-level chunks (larger context)\n",
    "    album_splitter = RecursiveCharacterTextSplitter(\n",
    "        chunk_size=1200,\n",
    "        chunk_overlap=150,\n",
    "        separators=[\"\\n---\\n\", \"\\n\\n\", \"\\n\", \". \", \" \"]\n",
    "    )\n",
    "    \n",
    "    album_chunks = album_splitter.split_documents(documents)\n",
    "    for chunk in album_chunks:\n",
    "        chunk.metadata[\"chunk_level\"] = \"album\"\n",
    "        chunk.metadata[\"chunk_size\"] = \"large\"\n",
    "    \n",
    "    # Level 2: Review-level chunks (medium context) \n",
    "    review_splitter = RecursiveCharacterTextSplitter(\n",
    "        chunk_size=600,\n",
    "        chunk_overlap=80,\n",
    "        separators=[\"\\n\\n\", \"\\nTrack\", \"\\nSong\", \"\\n\", \". \", \" \"]\n",
    "    )\n",
    "    \n",
    "    review_chunks = review_splitter.split_documents(documents)\n",
    "    for chunk in review_chunks:\n",
    "        chunk.metadata[\"chunk_level\"] = \"review\"\n",
    "        chunk.metadata[\"chunk_size\"] = \"medium\"\n",
    "    \n",
    "    # Level 3: Sentence-level chunks (precise matching)\n",
    "    sentence_splitter = RecursiveCharacterTextSplitter(\n",
    "        chunk_size=300,\n",
    "        chunk_overlap=30,\n",
    "        separators=[\". \", \"\\n\", \", \", \" \"]\n",
    "    )\n",
    "    \n",
    "    sentence_chunks = sentence_splitter.split_documents(documents)\n",
    "    for chunk in sentence_chunks:\n",
    "        chunk.metadata[\"chunk_level\"] = \"sentence\"\n",
    "        chunk.metadata[\"chunk_size\"] = \"small\"\n",
    "    \n",
    "    all_chunks = album_chunks + review_chunks + sentence_chunks\n",
    "    return all_chunks\n",
    "\n",
    "# --- Main Implementation ---\n",
    "def process_music_data_for_rag(df):\n",
    "    \"\"\"\n",
    "    Complete pipeline for processing music data for RAG\n",
    "    \"\"\"\n",
    "    print(\"Creating optimized documents...\")\n",
    "    documents = create_music_documents_optimized(df)\n",
    "    print(f\"Created {len(documents)} optimized LangChain Documents.\")\n",
    "    \n",
    "    print(\"Applying smart music chunking...\")\n",
    "    rev_docs_split = smart_music_chunking(documents, chunk_size=800, chunk_overlap=100)\n",
    "    print(f\"Split into {len(rev_docs_split)} smart chunks.\")\n",
    "    \n",
    "    return rev_docs_split\n",
    "\n",
    "# --- Usage ---\n",
    "# Replace your current code with either:\n",
    "\n",
    "# Option 1: Smart chunking (recommended)\n",
    "rev_docs_split = process_music_data_for_rag(df)\n"
   ]
  },
  {
   "cell_type": "code",
   "execution_count": 41,
   "metadata": {
    "execution": {
     "iopub.execute_input": "2025-07-29T09:59:21.703717Z",
     "iopub.status.busy": "2025-07-29T09:59:21.703000Z",
     "iopub.status.idle": "2025-07-29T10:26:39.990449Z",
     "shell.execute_reply": "2025-07-29T10:26:39.989638Z",
     "shell.execute_reply.started": "2025-07-29T09:59:21.703692Z"
    }
   },
   "outputs": [
    {
     "name": "stdout",
     "output_type": "stream",
     "text": [
      "Optimized ensemble retriever configured.\n",
      "Setting up embeddings...\n",
      "Creating vector store...\n",
      "Creating embeddings for 172983 chunks...\n",
      "FAISS index created and saved as 'pitchfork_music_faiss_optimized'.\n",
      "Setting up retrievers...\n",
      "Setting up metadata filtering...\n",
      "Retrieval system setup complete!\n"
     ]
    }
   ],
   "source": [
    "# --- Required Imports ---\n",
    "from langchain.embeddings import HuggingFaceEmbeddings\n",
    "from langchain.vectorstores import FAISS\n",
    "from langchain.retrievers import BM25Retriever, EnsembleRetriever\n",
    "import torch\n",
    "\n",
    "# --- Enhanced Embeddings for Music Content ---\n",
    "def setup_music_embeddings():\n",
    "    \"\"\"\n",
    "    Setup embeddings optimized for music content\n",
    "    \"\"\"\n",
    "    # Option 1: Better model for music/text understanding\n",
    "    embed_model_name = \"sentence-transformers/all-mpnet-base-v2\"  # Better than MiniLM\n",
    "    \n",
    "    # Option 2: If you need speed over quality, keep your original\n",
    "    # embed_model_name = \"sentence-transformers/all-MiniLM-L6-v2\"\n",
    "    \n",
    "    embed_model = HuggingFaceEmbeddings(\n",
    "        model_name=embed_model_name,\n",
    "        model_kwargs={\n",
    "            'device': 'cuda' if torch.cuda.is_available() else 'cpu',\n",
    "            'trust_remote_code': True\n",
    "        },\n",
    "        encode_kwargs={\n",
    "            'normalize_embeddings': True,  # Important for similarity search\n",
    "            'batch_size': 32  # Optimize for your hardware\n",
    "        }\n",
    "    )\n",
    "    \n",
    "    return embed_model\n",
    "\n",
    "def create_optimized_vector_store(rev_docs_split, embed_model):\n",
    "    \"\"\"\n",
    "    Create vector store with optimized settings for music data\n",
    "    \"\"\"\n",
    "    print(f\"Creating embeddings for {len(rev_docs_split)} chunks...\")\n",
    "    \n",
    "    # Create FAISS index with optimized settings\n",
    "    vector_store = FAISS.from_documents(\n",
    "        rev_docs_split, \n",
    "        embed_model,\n",
    "        # distance_strategy=\"COSINE\"  # Uncomment if using newer langchain\n",
    "    )\n",
    "    \n",
    "    # Save with descriptive name\n",
    "    index_name = \"pitchfork_music_faiss_optimized\"\n",
    "    vector_store.save_local(index_name)\n",
    "    print(f\"FAISS index created and saved as '{index_name}'.\")\n",
    "    \n",
    "    return vector_store\n",
    "\n",
    "def setup_advanced_retrievers(rev_docs_split, vector_store):\n",
    "    \"\"\"\n",
    "    Setup advanced retriever configuration for music recommendations\n",
    "    \"\"\"\n",
    "    # BM25 Retriever (keyword-based)\n",
    "    bm25_retriever = BM25Retriever.from_documents(rev_docs_split)\n",
    "    bm25_retriever.k = 20  # Slightly reduced for better precision\n",
    "    \n",
    "    # Vector Retriever with multiple search strategies\n",
    "    vector_retriever = vector_store.as_retriever(\n",
    "        search_type=\"similarity\",\n",
    "        search_kwargs={\"k\": 20}\n",
    "    )\n",
    "    \n",
    "    # Alternative: MMR (Maximum Marginal Relevance) for diversity\n",
    "    mmr_retriever = vector_store.as_retriever(\n",
    "        search_type=\"mmr\",\n",
    "        search_kwargs={\n",
    "            \"k\": 20,\n",
    "            \"fetch_k\": 40,  # Fetch more candidates for diversity\n",
    "            \"lambda_mult\": 0.7  # Balance relevance vs diversity\n",
    "        }\n",
    "    )\n",
    "    \n",
    "    # Ensemble with optimized weights for music content\n",
    "    ensemble_retriever = EnsembleRetriever(\n",
    "        retrievers=[vector_retriever, bm25_retriever],\n",
    "        weights=[0.7, 0.3]  # Favor semantic over keyword for music\n",
    "    )\n",
    "    \n",
    "    return {\n",
    "        'bm25': bm25_retriever,\n",
    "        'vector': vector_retriever,\n",
    "        'mmr': mmr_retriever,\n",
    "        'ensemble': ensemble_retriever\n",
    "    }\n",
    "\n",
    "def setup_metadata_filtering_retriever(vector_store):\n",
    "    \"\"\"\n",
    "    Create retrievers that can filter by metadata (genre, score, etc.)\n",
    "    \"\"\"\n",
    "    def create_filtered_retriever(filters=None):\n",
    "        \"\"\"\n",
    "        Create a retriever with metadata filters\n",
    "        Example filters:\n",
    "        - {\"genre\": \"rock\"}\n",
    "        - {\"score_category\": \"excellent\"}\n",
    "        - {\"decade\": \"2000s\"}\n",
    "        \"\"\"\n",
    "        if filters:\n",
    "            return vector_store.as_retriever(\n",
    "                search_kwargs={\n",
    "                    \"k\": 20,\n",
    "                    \"filter\": filters\n",
    "                }\n",
    "            )\n",
    "        else:\n",
    "            return vector_store.as_retriever(search_kwargs={\"k\": 20})\n",
    "    \n",
    "    return create_filtered_retriever\n",
    "\n",
    "# --- Main Setup Function ---\n",
    "def setup_complete_retrieval_system(rev_docs_split):\n",
    "    \"\"\"\n",
    "    Complete setup for music recommendation retrieval\n",
    "    \"\"\"\n",
    "    print(\"Setting up embeddings...\")\n",
    "    embed_model = setup_music_embeddings()\n",
    "    \n",
    "    print(\"Creating vector store...\")\n",
    "    vector_store = create_optimized_vector_store(rev_docs_split, embed_model)\n",
    "    \n",
    "    print(\"Setting up retrievers...\")\n",
    "    retrievers = setup_advanced_retrievers(rev_docs_split, vector_store)\n",
    "    \n",
    "    print(\"Setting up metadata filtering...\")\n",
    "    filtered_retriever_func = setup_metadata_filtering_retriever(vector_store)\n",
    "    \n",
    "    print(\"Retrieval system setup complete!\")\n",
    "    \n",
    "    return {\n",
    "        'embed_model': embed_model,\n",
    "        'vector_store': vector_store,\n",
    "        'retrievers': retrievers,\n",
    "        'filtered_retriever': filtered_retriever_func\n",
    "    }\n",
    "\n",
    "\n",
    "print(\"Optimized ensemble retriever configured.\")\n",
    "\n",
    "# Option 2: Full advanced setup\n",
    "system = setup_complete_retrieval_system(rev_docs_split)\n",
    "embed_model = system['embed_model']\n",
    "vector_store = system['vector_store']\n",
    "ensemble_retriever = system['retrievers']['ensemble']"
   ]
  },
  {
   "cell_type": "code",
   "execution_count": 43,
   "metadata": {
    "execution": {
     "iopub.execute_input": "2025-07-29T10:33:14.608776Z",
     "iopub.status.busy": "2025-07-29T10:33:14.608116Z",
     "iopub.status.idle": "2025-07-29T10:34:28.120748Z",
     "shell.execute_reply": "2025-07-29T10:34:28.119878Z",
     "shell.execute_reply.started": "2025-07-29T10:33:14.608752Z"
    }
   },
   "outputs": [
    {
     "data": {
      "application/vnd.jupyter.widget-view+json": {
       "model_id": "d5939bf4e13442b397aa6178b041c16f",
       "version_major": 2,
       "version_minor": 0
      },
      "text/plain": [
       "Loading checkpoint shards:   0%|          | 0/3 [00:00<?, ?it/s]"
      ]
     },
     "metadata": {},
     "output_type": "display_data"
    },
    {
     "name": "stderr",
     "output_type": "stream",
     "text": [
      "Device set to use cuda:0\n"
     ]
    },
    {
     "name": "stdout",
     "output_type": "stream",
     "text": [
      "Enhanced LLM loaded.\n"
     ]
    },
    {
     "data": {
      "application/vnd.jupyter.widget-view+json": {
       "model_id": "9e96f245effc48fea38a1111189f3729",
       "version_major": 2,
       "version_minor": 0
      },
      "text/plain": [
       "config.json:   0%|          | 0.00/791 [00:00<?, ?B/s]"
      ]
     },
     "metadata": {},
     "output_type": "display_data"
    },
    {
     "data": {
      "application/vnd.jupyter.widget-view+json": {
       "model_id": "f38d90b0b0cc4c579b9a56d55f8bc402",
       "version_major": 2,
       "version_minor": 0
      },
      "text/plain": [
       "model.safetensors:   0%|          | 0.00/133M [00:00<?, ?B/s]"
      ]
     },
     "metadata": {},
     "output_type": "display_data"
    },
    {
     "data": {
      "application/vnd.jupyter.widget-view+json": {
       "model_id": "bae1b091e2024851856d681d4a5e862f",
       "version_major": 2,
       "version_minor": 0
      },
      "text/plain": [
       "tokenizer_config.json: 0.00B [00:00, ?B/s]"
      ]
     },
     "metadata": {},
     "output_type": "display_data"
    },
    {
     "data": {
      "application/vnd.jupyter.widget-view+json": {
       "model_id": "732b722abd6e420b809d0fc6eccb5674",
       "version_major": 2,
       "version_minor": 0
      },
      "text/plain": [
       "vocab.txt: 0.00B [00:00, ?B/s]"
      ]
     },
     "metadata": {},
     "output_type": "display_data"
    },
    {
     "data": {
      "application/vnd.jupyter.widget-view+json": {
       "model_id": "f470f1032a5a423b9dd3ebcabace0f2c",
       "version_major": 2,
       "version_minor": 0
      },
      "text/plain": [
       "tokenizer.json: 0.00B [00:00, ?B/s]"
      ]
     },
     "metadata": {},
     "output_type": "display_data"
    },
    {
     "data": {
      "application/vnd.jupyter.widget-view+json": {
       "model_id": "511db5b440b742e6b0f2fe9b5393637a",
       "version_major": 2,
       "version_minor": 0
      },
      "text/plain": [
       "special_tokens_map.json:   0%|          | 0.00/132 [00:00<?, ?B/s]"
      ]
     },
     "metadata": {},
     "output_type": "display_data"
    },
    {
     "data": {
      "application/vnd.jupyter.widget-view+json": {
       "model_id": "d7ff1727ba0f4599b43b46e57845a375",
       "version_major": 2,
       "version_minor": 0
      },
      "text/plain": [
       "README.md: 0.00B [00:00, ?B/s]"
      ]
     },
     "metadata": {},
     "output_type": "display_data"
    },
    {
     "name": "stdout",
     "output_type": "stream",
     "text": [
      "Enhanced cross-encoder loaded.\n"
     ]
    }
   ],
   "source": [
    "# --- Required Imports ---\n",
    "from transformers import AutoModelForCausalLM, AutoTokenizer, pipeline, BitsAndBytesConfig\n",
    "from langchain.llms import HuggingFacePipeline\n",
    "from sentence_transformers import CrossEncoder\n",
    "from langchain.schema import BaseRetriever, Document\n",
    "from langchain.callbacks.manager import CallbackManagerForRetrieverRun\n",
    "from typing import List, Optional, Any\n",
    "import torch\n",
    "import re\n",
    "\n",
    "# --- Enhanced LLM Setup (Mistral) ---\n",
    "llm_model_name = \"mistralai/Mistral-7B-Instruct-v0.2\"\n",
    "\n",
    "bnb_config = BitsAndBytesConfig(\n",
    "    load_in_4bit=True,\n",
    "    bnb_4bit_quant_type=\"nf4\",\n",
    "    bnb_4bit_compute_dtype=torch.float16,\n",
    "    bnb_4bit_use_double_quant=True,\n",
    ")\n",
    "\n",
    "model = AutoModelForCausalLM.from_pretrained(\n",
    "    llm_model_name,\n",
    "    quantization_config=bnb_config,\n",
    "    device_map=\"auto\",\n",
    "    trust_remote_code=False,\n",
    "    torch_dtype=torch.float16,  # Added for consistency\n",
    "    low_cpu_mem_usage=True      # Memory optimization\n",
    ")\n",
    "\n",
    "tokenizer = AutoTokenizer.from_pretrained(llm_model_name)\n",
    "if tokenizer.pad_token is None:\n",
    "    tokenizer.pad_token = tokenizer.eos_token\n",
    "\n",
    "# Optimized pipeline for music recommendations\n",
    "pipe = pipeline(\n",
    "    \"text-generation\",\n",
    "    model=model,\n",
    "    tokenizer=tokenizer,\n",
    "    do_sample=True,\n",
    "    max_new_tokens=800,         # Increased for detailed recommendations\n",
    "    temperature=0.2,            # Slightly higher for creative recommendations\n",
    "    top_p=0.9,                  # Adjusted for better quality\n",
    "    repetition_penalty=1.1,     # Reduced to avoid over-penalization\n",
    "    pad_token_id=tokenizer.eos_token_id,\n",
    "    return_full_text=False      # Only return generated text\n",
    ")\n",
    "\n",
    "llm = HuggingFacePipeline(pipeline=pipe)\n",
    "print(\"Enhanced LLM loaded.\")\n",
    "\n",
    "# --- Better Cross-Encoder for Music Content ---\n",
    "# Option 1: Better general reranker\n",
    "cross_encoder_model_name = \"cross-encoder/ms-marco-MiniLM-L-12-v2\"  # Better than L-6\n",
    "\n",
    "# Option 2: If you want to stick with your current model\n",
    "# cross_encoder_model_name = \"cross-encoder/ms-marco-MiniLM-L-6-v2\"\n",
    "\n",
    "cross_encoder = CrossEncoder(\n",
    "    cross_encoder_model_name,\n",
    "    device='cuda' if torch.cuda.is_available() else 'cpu',\n",
    "    max_length=512  # Ensure compatibility with chunk sizes\n",
    ")\n",
    "print(\"Enhanced cross-encoder loaded.\")\n"
   ]
  },
  {
   "cell_type": "code",
   "execution_count": 44,
   "metadata": {
    "execution": {
     "iopub.execute_input": "2025-07-29T10:36:52.530964Z",
     "iopub.status.busy": "2025-07-29T10:36:52.530192Z",
     "iopub.status.idle": "2025-07-29T10:36:52.554410Z",
     "shell.execute_reply": "2025-07-29T10:36:52.553453Z",
     "shell.execute_reply.started": "2025-07-29T10:36:52.530939Z"
    }
   },
   "outputs": [
    {
     "name": "stdout",
     "output_type": "stream",
     "text": [
      "Enhanced reranking retriever configured.\n"
     ]
    }
   ],
   "source": [
    "# --- Enhanced Query Expansion ---\n",
    "def expand_music_query(query: str) -> str:\n",
    "    \"\"\"\n",
    "    Enhanced query expansion for music recommendations\n",
    "    \"\"\"\n",
    "    query = query.lower().strip()\n",
    "    \n",
    "    # Music-specific expansions\n",
    "    expansions = {\n",
    "        'chill': 'chill ambient relaxing calm peaceful',\n",
    "        'upbeat': 'upbeat energetic lively danceable vibrant',\n",
    "        'sad': 'sad melancholic emotional introspective somber',\n",
    "        'rock': 'rock guitar drums bass alternative indie',\n",
    "        'electronic': 'electronic synth digital beats techno house',\n",
    "        'indie': 'indie independent alternative underground',\n",
    "        'experimental': 'experimental avant-garde innovative unique',\n",
    "        'pop': 'pop catchy melodic mainstream accessible',\n",
    "        'folk': 'folk acoustic traditional storytelling',\n",
    "        'jazz': 'jazz improvisation brass sophisticated',\n",
    "        'metal': 'metal heavy aggressive intense powerful',\n",
    "        'punk': 'punk raw rebellious energetic fast'\n",
    "    }\n",
    "    \n",
    "    # Add related terms\n",
    "    for term, expansion in expansions.items():\n",
    "        if term in query:\n",
    "            query += f\" {expansion}\"\n",
    "    \n",
    "    # Add music-specific context\n",
    "    if not any(word in query for word in ['music', 'album', 'artist', 'song', 'track']):\n",
    "        query += \" music album\"\n",
    "    \n",
    "    return query\n",
    "\n",
    "def expand_query_simple(query: str) -> str:\n",
    "    \"\"\"Simple query expansion (your original)\"\"\"\n",
    "    return str(query)\n",
    "\n",
    "# --- Enhanced Reranking Function ---\n",
    "def rerank_docs_enhanced(query: str, retrieved_docs: list, top_n: int = 3) -> list:\n",
    "    \"\"\"\n",
    "    Enhanced reranking with music-specific considerations\n",
    "    \"\"\"\n",
    "    if not retrieved_docs or not query.strip():\n",
    "        return retrieved_docs[:top_n]\n",
    "    \n",
    "    # Prepare pairs for cross-encoder\n",
    "    pairs = []\n",
    "    for doc in retrieved_docs:\n",
    "        # Use the rich content from your enhanced chunking\n",
    "        content = doc.page_content\n",
    "        pairs.append((query, content))\n",
    "    \n",
    "    try:\n",
    "        scores = cross_encoder.predict(pairs)\n",
    "        \n",
    "        # Additional scoring based on music-specific factors\n",
    "        enhanced_scores = []\n",
    "        for i, (score, doc) in enumerate(zip(scores, retrieved_docs)):\n",
    "            # Boost scores for high-rated albums\n",
    "            metadata_boost = 0.0\n",
    "            if 'score' in doc.metadata:\n",
    "                try:\n",
    "                    album_score = float(doc.metadata['score'])\n",
    "                    if album_score >= 8.0:\n",
    "                        metadata_boost += 0.1\n",
    "                    elif album_score >= 7.0:\n",
    "                        metadata_boost += 0.05\n",
    "                except:\n",
    "                    pass\n",
    "            \n",
    "            # Boost for \"Best New Music\"\n",
    "            if doc.metadata.get('best_new', False):\n",
    "                metadata_boost += 0.15\n",
    "            \n",
    "            enhanced_scores.append(score + metadata_boost)\n",
    "        \n",
    "        # Sort by enhanced scores\n",
    "        scored_docs = sorted(zip(enhanced_scores, retrieved_docs), key=lambda x: x[0], reverse=True)\n",
    "        return [doc for _, doc in scored_docs[:top_n]]\n",
    "        \n",
    "    except Exception as e:\n",
    "        print(f\"Reranking error: {e}\")\n",
    "        return retrieved_docs[:top_n]\n",
    "\n",
    "# --- Enhanced Custom Reranking Retriever ---\n",
    "class EnhancedRerankingRetriever(BaseRetriever):\n",
    "    \"\"\"\n",
    "    Enhanced retriever with better deduplication and music-specific logic\n",
    "    \"\"\"\n",
    "    ensemble_retriever: BaseRetriever\n",
    "    reranker_fn: Any\n",
    "    query_expansion_fn: Any\n",
    "    \n",
    "    def _get_relevant_documents(\n",
    "        self, query: str, *, run_manager: Optional[CallbackManagerForRetrieverRun] = None, **kwargs: Any\n",
    "    ) -> List[Document]:\n",
    "        \n",
    "        # Expand query\n",
    "        expanded_query = self.query_expansion_fn(query)\n",
    "        \n",
    "        # Get documents from ensemble retriever\n",
    "        callbacks = run_manager.get_child() if run_manager else None\n",
    "        retrieved_docs = self.ensemble_retriever.get_relevant_documents(\n",
    "            expanded_query, callbacks=callbacks, **kwargs\n",
    "        )\n",
    "        \n",
    "        # Enhanced deduplication - prioritize better content\n",
    "        seen_albums = {}\n",
    "        unique_docs = []\n",
    "        \n",
    "        for doc in retrieved_docs:\n",
    "            # Create unique key\n",
    "            artist = doc.metadata.get('artist', '').strip().lower()\n",
    "            album = doc.metadata.get('album', '').strip().lower()\n",
    "            doc_key = f\"{artist}|{album}\"\n",
    "            \n",
    "            if doc_key not in seen_albums:\n",
    "                seen_albums[doc_key] = doc\n",
    "                unique_docs.append(doc)\n",
    "            else:\n",
    "                # Keep the chunk with more content if same album\n",
    "                existing_doc = seen_albums[doc_key]\n",
    "                if len(doc.page_content) > len(existing_doc.page_content):\n",
    "                    # Replace with better content\n",
    "                    idx = unique_docs.index(existing_doc)\n",
    "                    unique_docs[idx] = doc\n",
    "                    seen_albums[doc_key] = doc\n",
    "        \n",
    "        # Apply reranking\n",
    "        reranked_docs = self.reranker_fn(query, unique_docs)\n",
    "        return reranked_docs\n",
    "\n",
    "# --- Setup Enhanced Retriever ---\n",
    "custom_retriever_with_reranking = EnhancedRerankingRetriever(\n",
    "    ensemble_retriever=ensemble_retriever,\n",
    "    reranker_fn=rerank_docs_enhanced,  # Use enhanced reranking\n",
    "    query_expansion_fn=expand_music_query  # Use music-specific expansion\n",
    ")\n",
    "\n",
    "print(\"Enhanced reranking retriever configured.\")\n",
    "\n"
   ]
  },
  {
   "cell_type": "code",
   "execution_count": 69,
   "metadata": {
    "execution": {
     "iopub.execute_input": "2025-07-29T11:16:51.065868Z",
     "iopub.status.busy": "2025-07-29T11:16:51.065336Z",
     "iopub.status.idle": "2025-07-29T11:16:51.072773Z",
     "shell.execute_reply": "2025-07-29T11:16:51.071941Z",
     "shell.execute_reply.started": "2025-07-29T11:16:51.065845Z"
    }
   },
   "outputs": [
    {
     "name": "stdout",
     "output_type": "stream",
     "text": [
      "Enhanced RAG Pipeline (qa_chain) initialized.\n"
     ]
    }
   ],
   "source": [
    "from langchain.chains import RetrievalQA\n",
    "# --- Enhanced Document Prompt ---\n",
    "document_prompt_template_str = \"\"\"---\n",
    "Retrieved Review Chunk:\n",
    "Artist: {artist}\n",
    "Album: {album}\n",
    "Score: {score}/10\n",
    "Year: {year}\n",
    "Genre: {genre}\n",
    "Best New Music: {best_new}\n",
    "Content:\n",
    "{page_content}\n",
    "---\"\"\"\n",
    "\n",
    "document_prompt = PromptTemplate(\n",
    "    template=document_prompt_template_str,\n",
    "    input_variables=[\"page_content\", \"artist\", \"album\", \"score\", \"year\", \"genre\", \"best_new\"]\n",
    ")\n",
    "\n",
    "# --- Enhanced QA Prompt ---\n",
    "qa_prompt_template_str = \"\"\"You are a knowledgeable music recommendation assistant specializing in indie, alternative, and experimental music.\n",
    "Your goal is to provide thoughtful music recommendations based on the user's query and the provided context of Pitchfork music reviews.\n",
    "\n",
    "User Query: {question}\n",
    "\n",
    "Context Data (Music Reviews):\n",
    "{formatted_context}\n",
    "\n",
    "Based on the user's query and the provided reviews, please recommend up to 3 albums that best match their request.\n",
    "\n",
    "For each recommendation, provide:\n",
    "1. **Artist - Album Title**\n",
    "2. **Pitchfork Score** (if available)\n",
    "3. **Year & Genre**\n",
    "4. **Why it matches:** A brief explanation referencing specific aspects from the review that align with the user's query\n",
    "\n",
    "Guidelines:\n",
    "- Prioritize albums with higher scores when quality is important\n",
    "- Consider musical style, mood, and thematic elements mentioned in reviews\n",
    "- Reference specific details from the reviews to support your recommendations\n",
    "- If the user asks for similar artists/albums, focus on musical and stylistic parallels\n",
    "- Only recommend albums present in the provided context\n",
    "- If no suitable matches exist in the context, clearly state this\n",
    "\n",
    "Recommendations:\"\"\"\n",
    "\n",
    "qa_prompt = PromptTemplate(\n",
    "    template=qa_prompt_template_str, \n",
    "    input_variables=[\"question\", \"formatted_context\"]\n",
    ")\n",
    "\n",
    "# --- QA Chain (unchanged - works well) ---\n",
    "qa_chain = RetrievalQA.from_chain_type(\n",
    "    llm=llm,\n",
    "    chain_type=\"stuff\",\n",
    "    retriever=custom_retriever_with_reranking,\n",
    "    chain_type_kwargs={\n",
    "        \"prompt\": qa_prompt,\n",
    "        \"document_prompt\": document_prompt,\n",
    "        \"document_variable_name\": \"formatted_context\"\n",
    "    },\n",
    "    return_source_documents=True,\n",
    "    verbose=True\n",
    ")\n",
    "\n",
    "print(\"Enhanced RAG Pipeline (qa_chain) initialized.\")\n"
   ]
  },
  {
   "cell_type": "code",
   "execution_count": 49,
   "metadata": {
    "execution": {
     "iopub.execute_input": "2025-07-29T10:40:44.525947Z",
     "iopub.status.busy": "2025-07-29T10:40:44.525693Z",
     "iopub.status.idle": "2025-07-29T10:41:08.189555Z",
     "shell.execute_reply": "2025-07-29T10:41:08.188713Z",
     "shell.execute_reply.started": "2025-07-29T10:40:44.525932Z"
    }
   },
   "outputs": [
    {
     "name": "stdout",
     "output_type": "stream",
     "text": [
      "\n",
      "🤖 Asking Music Bot: Recommend some dreamy synth-pop albums from recent years in 2022\n",
      "\n",
      "\n",
      "\u001b[1m> Entering new RetrievalQA chain...\u001b[0m\n"
     ]
    },
    {
     "name": "stderr",
     "output_type": "stream",
     "text": [
      "/tmp/ipykernel_76/3446473253.py:104: LangChainDeprecationWarning: The method `BaseRetriever.get_relevant_documents` was deprecated in langchain-core 0.1.46 and will be removed in 1.0. Use :meth:`~invoke` instead.\n",
      "  retrieved_docs = self.ensemble_retriever.get_relevant_documents(\n"
     ]
    },
    {
     "data": {
      "application/vnd.jupyter.widget-view+json": {
       "model_id": "c4b04b55612f4700b9fb65a4a759c567",
       "version_major": 2,
       "version_minor": 0
      },
      "text/plain": [
       "Batches:   0%|          | 0/2 [00:00<?, ?it/s]"
      ]
     },
     "metadata": {},
     "output_type": "display_data"
    },
    {
     "name": "stdout",
     "output_type": "stream",
     "text": [
      "\n",
      "\u001b[1m> Finished chain.\u001b[0m\n",
      "\n",
      "✅ LLM Answer:\n",
      "\n",
      "1. Artist: BUMPER\n",
      "   Album: pop songs 2020 EP\n",
      "   Score: 7.5/10\n",
      "   Year: 2020\n",
      "   Why it matches: This dreamy synth-pop EP offers a much-needed dopamine rush while also incorporating melancholic moments, fitting the user's query for dreamy synth-pop albums.\n",
      "\n",
      "2. Artist: Bad Bunny\n",
      "   Album: Un Verano Sin Ti\n",
      "   Score: 7.4/10\n",
      "   Year: 2022\n",
      "   Why it matches: Although primarily classified as rap/pop/R&B, Bad Bunny's Un Verano Sin Ti includes dreamy synth elements that contribute to its overall catchy and upbeat vibe, making it a great fit for the user's query.\n",
      "\n",
      "3. Artist: CHVRCHES\n",
      "   Album: Love Is Dead\n",
      "   Score: 7.6/10\n",
      "   Year: 2018\n",
      "   Why it matches: While not directly mentioned in the provided context, CHVRCHES' Love Is Dead shares a dreamy synth-pop soundscape with the user's query. Their ethereal melodies and electronic production create an atmosphere reminiscent of the genre the user is seeking.\n",
      "\n",
      "📚 Source Documents Used:\n",
      "--- Source 1 ---\n",
      "  Artist: BUMPER, Album: pop songs 2020 EP, Score: 7.5\n",
      "--- Source 2 ---\n",
      "  Artist: Bad Bunny, Album: nadie sabe lo que va a pasar mañana, Score: 7.4\n",
      "--- Source 3 ---\n",
      "  Artist: Say Lou Lou, Album: Lucid Dreaming, Score: 5.8\n",
      "------------------------------\n"
     ]
    },
    {
     "data": {
      "text/plain": [
       "\"\\n1. Artist: BUMPER\\n   Album: pop songs 2020 EP\\n   Score: 7.5/10\\n   Year: 2020\\n   Why it matches: This dreamy synth-pop EP offers a much-needed dopamine rush while also incorporating melancholic moments, fitting the user's query for dreamy synth-pop albums.\\n\\n2. Artist: Bad Bunny\\n   Album: Un Verano Sin Ti\\n   Score: 7.4/10\\n   Year: 2022\\n   Why it matches: Although primarily classified as rap/pop/R&B, Bad Bunny's Un Verano Sin Ti includes dreamy synth elements that contribute to its overall catchy and upbeat vibe, making it a great fit for the user's query.\\n\\n3. Artist: CHVRCHES\\n   Album: Love Is Dead\\n   Score: 7.6/10\\n   Year: 2018\\n   Why it matches: While not directly mentioned in the provided context, CHVRCHES' Love Is Dead shares a dreamy synth-pop soundscape with the user's query. Their ethereal melodies and electronic production create an atmosphere reminiscent of the genre the user is seeking.\""
      ]
     },
     "execution_count": 49,
     "metadata": {},
     "output_type": "execute_result"
    }
   ],
   "source": [
    "def ask_music_bot(query: str):\n",
    "    if pd.isna(query) or not query.strip():\n",
    "        return \"Please provide a query.\"\n",
    "    print(f\"\\n🤖 Asking Music Bot: {query}\")\n",
    "    try:\n",
    "        result = qa_chain.invoke({\"query\": query})\n",
    "        print(\"\\n✅ LLM Answer:\")\n",
    "        print(result['result'])\n",
    "        if result.get('source_documents'):\n",
    "            print(\"\\n📚 Source Documents Used:\")\n",
    "            for i, doc in enumerate(result['source_documents']):\n",
    "                print(f\"--- Source {i+1} ---\")\n",
    "                print(f\"  Artist: {doc.metadata.get('artist')}, Album: {doc.metadata.get('album')}, Score: {doc.metadata.get('score')}\")\n",
    "            print(\"-\" * 30)\n",
    "        return result['result']\n",
    "    except Exception as e:\n",
    "        print(f\"Error during QA chain execution: {e}\")\n",
    "        import traceback\n",
    "        traceback.print_exc()\n",
    "        return \"Sorry, an error occurred.\"\n",
    "\n",
    "# --- Example Queries ---\n",
    "ask_music_bot(\"Recommend some dreamy synth-pop albums from recent years in 2022\")"
   ]
  }
 ],
 "metadata": {
  "kaggle": {
   "accelerator": "nvidiaTeslaT4",
   "dataSources": [
    {
     "datasetId": 7963583,
     "sourceId": 12607390,
     "sourceType": "datasetVersion"
    }
   ],
   "dockerImageVersionId": 31089,
   "isGpuEnabled": true,
   "isInternetEnabled": true,
   "language": "python",
   "sourceType": "notebook"
  },
  "kernelspec": {
   "display_name": "Python 3 (ipykernel)",
   "language": "python",
   "name": "python3"
  },
  "language_info": {
   "codemirror_mode": {
    "name": "ipython",
    "version": 3
   },
   "file_extension": ".py",
   "mimetype": "text/x-python",
   "name": "python",
   "nbconvert_exporter": "python",
   "pygments_lexer": "ipython3",
   "version": "3.12.3"
  }
 },
 "nbformat": 4,
 "nbformat_minor": 4
}
